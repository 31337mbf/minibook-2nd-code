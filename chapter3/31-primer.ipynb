{
  "cells": [
    {
      "metadata": {},
      "source": "## A primer to vector computing",
      "cell_type": "markdown"
    },
    {
      "metadata": {},
      "source": "### Multidimensional arrays",
      "cell_type": "markdown"
    },
    {
      "metadata": {},
      "source": "### The ndarray",
      "cell_type": "markdown"
    },
    {
      "metadata": {},
      "source": "### Vector operations on ndarrays",
      "cell_type": "markdown"
    },
    {
      "metadata": {},
      "source": "### Example: how fast are vector computations in NumPy?",
      "cell_type": "markdown"
    },
    {
      "execution_count": 1,
      "metadata": {},
      "cell_type": "code",
      "outputs": [],
      "source": "from random import random\nlist_1 = [random() for _ in range(1000000)]\nlist_2 = [random() for _ in range(1000000)]"
    },
    {
      "execution_count": 2,
      "metadata": {},
      "cell_type": "code",
      "outputs": [
        {
          "execution_count": 2,
          "metadata": {},
          "output_type": "execute_result",
          "data": {
            "text/plain": "[0.843375384328939, 1.507485612134079, 1.4119777108063973]"
          }
        }
      ],
      "source": "out = [x + y for (x, y) in zip(list_1, list_2)]\nout[:3]"
    },
    {
      "execution_count": 3,
      "metadata": {},
      "cell_type": "code",
      "outputs": [
        {
          "execution_count": 3,
          "metadata": {},
          "output_type": "execute_result",
          "data": {
            "text/plain": "10 loops, best of 3: 69.7 ms per loop"
          }
        }
      ],
      "source": "%timeit [x + y for (x, y) in zip(list_1, list_2)]"
    },
    {
      "execution_count": 4,
      "metadata": {},
      "cell_type": "code",
      "outputs": [],
      "source": "import numpy as np\narr_1 = np.array(list_1)\narr_2 = np.array(list_2)"
    },
    {
      "execution_count": 5,
      "metadata": {},
      "cell_type": "code",
      "outputs": [
        {
          "execution_count": 5,
          "metadata": {},
          "output_type": "execute_result",
          "data": {
            "text/plain": "(list, numpy.ndarray)"
          }
        }
      ],
      "source": "type(list_1), type(arr_1)"
    },
    {
      "execution_count": 6,
      "metadata": {},
      "cell_type": "code",
      "outputs": [
        {
          "execution_count": 6,
          "metadata": {},
          "output_type": "execute_result",
          "data": {
            "text/plain": "(1000000,)"
          }
        }
      ],
      "source": "arr_1.shape"
    },
    {
      "execution_count": 7,
      "metadata": {},
      "cell_type": "code",
      "outputs": [
        {
          "execution_count": 7,
          "metadata": {},
          "output_type": "execute_result",
          "data": {
            "text/plain": "dtype('float64')"
          }
        }
      ],
      "source": "arr_2.dtype"
    },
    {
      "execution_count": 8,
      "metadata": {},
      "cell_type": "code",
      "outputs": [
        {
          "execution_count": 8,
          "metadata": {},
          "output_type": "execute_result",
          "data": {
            "text/plain": "array([ 0.84337538,  1.50748561,  1.41197771])"
          }
        }
      ],
      "source": "sum_arr = arr_1 + arr_2\nsum_arr[:3]"
    },
    {
      "execution_count": 9,
      "metadata": {},
      "cell_type": "code",
      "outputs": [
        {
          "execution_count": 9,
          "metadata": {},
          "output_type": "execute_result",
          "data": {
            "text/plain": "1000 loops, best of 3: 1.57 ms per loop"
          }
        }
      ],
      "source": "%timeit arr_1 + arr_2"
    },
    {
      "metadata": {},
      "source": "### How a ndarray is stored in memory",
      "cell_type": "markdown"
    },
    {
      "metadata": {},
      "source": "### Why operations on ndarrays are fast",
      "cell_type": "markdown"
    }
  ],
  "metadata": {},
  "nbformat_minor": 0,
  "nbformat": 4
}