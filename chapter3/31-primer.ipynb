{
  "metadata": {},
  "cells": [
    {
      "metadata": {},
      "source": "## A primer to vector computing",
      "cell_type": "markdown"
    },
    {
      "metadata": {},
      "source": "### Multidimensional arrays",
      "cell_type": "markdown"
    },
    {
      "metadata": {},
      "source": "### The ndarray",
      "cell_type": "markdown"
    },
    {
      "metadata": {},
      "source": "### Vector operations on ndarrays",
      "cell_type": "markdown"
    },
    {
      "metadata": {},
      "source": "### Example: how fast are vector computations in NumPy?",
      "cell_type": "markdown"
    },
    {
      "metadata": {},
      "cell_type": "code",
      "source": "from random import random\nlist_1 = [random() for _ in range(1000000)]\nlist_2 = [random() for _ in range(1000000)]",
      "outputs": [],
      "execution_count": 1
    },
    {
      "metadata": {},
      "cell_type": "code",
      "source": "out = [x + y for (x, y) in zip(list_1, list_2)]\nout[:3]",
      "outputs": [
        {
          "metadata": {},
          "execution_count": 2,
          "data": {
            "text/plain": "[0.843375384328939, 1.507485612134079, 1.4119777108063973]"
          },
          "output_type": "execute_result"
        }
      ],
      "execution_count": 2
    },
    {
      "metadata": {},
      "cell_type": "code",
      "source": "%timeit [x + y for (x, y) in zip(list_1, list_2)]",
      "outputs": [
        {
          "metadata": {},
          "execution_count": 3,
          "data": {
            "text/plain": "10 loops, best of 3: 69.7 ms per loop"
          },
          "output_type": "execute_result"
        }
      ],
      "execution_count": 3
    },
    {
      "metadata": {},
      "cell_type": "code",
      "source": "import numpy as np\narr_1 = np.array(list_1)\narr_2 = np.array(list_2)",
      "outputs": [],
      "execution_count": 4
    },
    {
      "metadata": {},
      "cell_type": "code",
      "source": "type(list_1), type(arr_1)",
      "outputs": [
        {
          "metadata": {},
          "execution_count": 5,
          "data": {
            "text/plain": "(list, numpy.ndarray)"
          },
          "output_type": "execute_result"
        }
      ],
      "execution_count": 5
    },
    {
      "metadata": {},
      "cell_type": "code",
      "source": "arr_1.shape",
      "outputs": [
        {
          "metadata": {},
          "execution_count": 6,
          "data": {
            "text/plain": "(1000000,)"
          },
          "output_type": "execute_result"
        }
      ],
      "execution_count": 6
    },
    {
      "metadata": {},
      "cell_type": "code",
      "source": "arr_1.dtype",
      "outputs": [
        {
          "metadata": {},
          "execution_count": 7,
          "data": {
            "text/plain": "dtype('float64')"
          },
          "output_type": "execute_result"
        }
      ],
      "execution_count": 7
    },
    {
      "metadata": {},
      "cell_type": "code",
      "source": "sum_arr = arr_1 + arr_2\nsum_arr[:3]",
      "outputs": [
        {
          "metadata": {},
          "execution_count": 8,
          "data": {
            "text/plain": "array([ 0.84337538,  1.50748561,  1.41197771])"
          },
          "output_type": "execute_result"
        }
      ],
      "execution_count": 8
    },
    {
      "metadata": {},
      "cell_type": "code",
      "source": "%timeit arr_1 + arr_2",
      "outputs": [
        {
          "metadata": {},
          "execution_count": 9,
          "data": {
            "text/plain": "1000 loops, best of 3: 1.57 ms per loop"
          },
          "output_type": "execute_result"
        }
      ],
      "execution_count": 9
    },
    {
      "metadata": {},
      "source": "### How an ndarray is stored in memory",
      "cell_type": "markdown"
    },
    {
      "metadata": {},
      "source": "### Why operations on ndarrays are fast",
      "cell_type": "markdown"
    }
  ],
  "nbformat": 4,
  "nbformat_minor": 0
}