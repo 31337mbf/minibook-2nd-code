{
  "cells": [
    {
      "metadata": {},
      "source": "## Creating and loading arrays",
      "cell_type": "markdown"
    },
    {
      "metadata": {},
      "source": "### Creating arrays",
      "cell_type": "markdown"
    },
    {
      "execution_count": 1,
      "metadata": {},
      "cell_type": "code",
      "outputs": [
        {
          "execution_count": 1,
          "metadata": {},
          "output_type": "execute_result",
          "data": {
            "text/plain": "ones [ 1.  1.  1.  1.  1.]\narange [0 1 2 3 4]\nlinspace [ 0.    0.25  0.5   0.75  1.  ]\nrandom [ 0.68361911  0.33585308  0.70733934]\ncustom [2 3 5]"
          }
        }
      ],
      "source": "import numpy as np\nprint(\"ones\", np.ones(5))\nprint(\"arange\", np.arange(5))\nprint(\"linspace\", np.linspace(0., 1., 5))\nprint(\"random\", np.random.uniform(size=3))\nprint(\"custom\", np.array([2, 3, 5]))"
    },
    {
      "execution_count": 2,
      "metadata": {},
      "cell_type": "code",
      "outputs": [
        {
          "execution_count": 2,
          "metadata": {},
          "output_type": "execute_result",
          "data": {
            "text/plain": "array([1, 1, 1, 1, 1])"
          }
        }
      ],
      "source": "np.ones(5, dtype=np.int64)"
    },
    {
      "execution_count": 3,
      "metadata": {},
      "cell_type": "code",
      "outputs": [
        {
          "execution_count": 3,
          "metadata": {},
          "output_type": "execute_result",
          "data": {
            "text/plain": "array([ 0.,  1.,  2.,  3.,  4.])"
          }
        }
      ],
      "source": "np.arange(5).astype(np.float64)"
    },
    {
      "metadata": {},
      "source": "### Loading arrays from files",
      "cell_type": "markdown"
    },
    {
      "execution_count": 4,
      "metadata": {},
      "cell_type": "code",
      "outputs": [],
      "source": "import pandas as pd"
    },
    {
      "execution_count": 5,
      "metadata": {},
      "cell_type": "code",
      "outputs": [],
      "source": "data = pd.read_csv('../chapter2/data/nyc_data.csv')"
    },
    {
      "execution_count": 6,
      "metadata": {},
      "cell_type": "code",
      "outputs": [
        {
          "execution_count": 6,
          "metadata": {},
          "output_type": "execute_result",
          "data": {
            "text/plain": "array([[-73.955925,  40.781887],\n       [-74.005501,  40.745735],\n       ...,\n       [-73.978477,  40.772945],\n       [-73.987206,  40.750568]])"
          }
        }
      ],
      "source": "pickup = data[['pickup_longitude', 'pickup_latitude']].values\npickup"
    },
    {
      "execution_count": 7,
      "metadata": {},
      "cell_type": "code",
      "outputs": [
        {
          "execution_count": 7,
          "metadata": {},
          "output_type": "execute_result",
          "data": {
            "text/plain": "(846945, 2)"
          }
        }
      ],
      "source": "pickup.shape"
    }
  ],
  "metadata": {},
  "nbformat_minor": 0,
  "nbformat": 4
}