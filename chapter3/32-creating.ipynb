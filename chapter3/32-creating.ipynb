{
  "metadata": {},
  "cells": [
    {
      "metadata": {},
      "source": "## Creating and loading arrays",
      "cell_type": "markdown"
    },
    {
      "metadata": {},
      "source": "### Creating arrays",
      "cell_type": "markdown"
    },
    {
      "metadata": {},
      "cell_type": "code",
      "source": "import numpy as np\nprint(\"ones\", np.ones(5))\nprint(\"arange\", np.arange(5))\nprint(\"linspace\", np.linspace(0., 1., 5))\nprint(\"random\", np.random.uniform(size=3))\nprint(\"custom\", np.array([2, 3, 5]))",
      "outputs": [
        {
          "metadata": {},
          "execution_count": 1,
          "data": {
            "text/plain": "ones [ 1.  1.  1.  1.  1.]\narange [0 1 2 3 4]\nlinspace [ 0.    0.25  0.5   0.75  1.  ]\nrandom [ 0.68361911  0.33585308  0.70733934]\ncustom [2 3 5]"
          },
          "output_type": "execute_result"
        }
      ],
      "execution_count": 1
    },
    {
      "metadata": {},
      "cell_type": "code",
      "source": "np.array([[1, 2], [3, 4]])",
      "outputs": [
        {
          "metadata": {},
          "execution_count": 2,
          "data": {
            "text/plain": "array([[1, 2],\n       [3, 4]])"
          },
          "output_type": "execute_result"
        }
      ],
      "execution_count": 2
    },
    {
      "metadata": {},
      "cell_type": "code",
      "source": "np.ones(5, dtype=np.int64)",
      "outputs": [
        {
          "metadata": {},
          "execution_count": 3,
          "data": {
            "text/plain": "array([1, 1, 1, 1, 1])"
          },
          "output_type": "execute_result"
        }
      ],
      "execution_count": 3
    },
    {
      "metadata": {},
      "cell_type": "code",
      "source": "np.arange(5).astype(np.float64)",
      "outputs": [
        {
          "metadata": {},
          "execution_count": 4,
          "data": {
            "text/plain": "array([ 0.,  1.,  2.,  3.,  4.])"
          },
          "output_type": "execute_result"
        }
      ],
      "execution_count": 4
    },
    {
      "metadata": {},
      "source": "### Loading arrays from files",
      "cell_type": "markdown"
    },
    {
      "metadata": {},
      "cell_type": "code",
      "source": "import pandas as pd",
      "outputs": [],
      "execution_count": 5
    },
    {
      "metadata": {},
      "cell_type": "code",
      "source": "data = pd.read_csv('../chapter2/data/nyc_data.csv')",
      "outputs": [],
      "execution_count": 6
    },
    {
      "metadata": {},
      "cell_type": "code",
      "source": "pickup = data[['pickup_longitude', 'pickup_latitude']].values\npickup",
      "outputs": [
        {
          "metadata": {},
          "execution_count": 7,
          "data": {
            "text/plain": "array([[-73.955925,  40.781887],\n       [-74.005501,  40.745735],\n       ...,\n       [-73.978477,  40.772945],\n       [-73.987206,  40.750568]])"
          },
          "output_type": "execute_result"
        }
      ],
      "execution_count": 7
    },
    {
      "metadata": {},
      "cell_type": "code",
      "source": "pickup.shape",
      "outputs": [
        {
          "metadata": {},
          "execution_count": 8,
          "data": {
            "text/plain": "(846945, 2)"
          },
          "output_type": "execute_result"
        }
      ],
      "execution_count": 8
    }
  ],
  "nbformat": 4,
  "nbformat_minor": 0
}