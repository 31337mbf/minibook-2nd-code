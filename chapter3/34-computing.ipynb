{
  "metadata": {},
  "cells": [
    {
      "metadata": {},
      "source": "## Computing with NumPy arrays",
      "cell_type": "markdown"
    },
    {
      "metadata": {},
      "cell_type": "code",
      "source": "import numpy as np\nimport pandas as pd\nimport matplotlib.pyplot as plt\nimport seaborn as sns\n%matplotlib inline",
      "outputs": [],
      "execution_count": 1
    },
    {
      "metadata": {},
      "cell_type": "code",
      "source": "data = pd.read_csv('../chapter2/data/nyc_data.csv',\n                   parse_dates=['pickup_datetime', 'dropoff_datetime'])",
      "outputs": [],
      "execution_count": 2
    },
    {
      "metadata": {},
      "cell_type": "code",
      "source": "pickup = data[['pickup_longitude', 'pickup_latitude']].values\ndropoff = data[['dropoff_longitude', 'dropoff_latitude']].values\npickup",
      "outputs": [
        {
          "metadata": {},
          "execution_count": 3,
          "data": {
            "text/plain": "array([[-73.955925,  40.781887],\n       [-74.005501,  40.745735],\n       [-73.969955,  40.79977 ],\n       ...,\n       [-73.993492,  40.729347],\n       [-73.978477,  40.772945],\n       [-73.987206,  40.750568]])"
          },
          "output_type": "execute_result"
        }
      ],
      "execution_count": 3
    },
    {
      "metadata": {},
      "source": "### Selection and indexing",
      "cell_type": "markdown"
    },
    {
      "metadata": {},
      "cell_type": "code",
      "source": "print(pickup[3, 1])",
      "outputs": [
        {
          "metadata": {},
          "execution_count": 4,
          "data": {
            "text/plain": "40.755081"
          },
          "output_type": "execute_result"
        }
      ],
      "execution_count": 4
    },
    {
      "metadata": {},
      "cell_type": "code",
      "source": "pickup[1:7:2, 1:]",
      "outputs": [
        {
          "metadata": {},
          "execution_count": 5,
          "data": {
            "text/plain": "array([[ 40.745735],\n       [ 40.755081],\n       [ 40.768978]])"
          },
          "output_type": "execute_result"
        }
      ],
      "execution_count": 5
    },
    {
      "metadata": {},
      "cell_type": "code",
      "source": "lon = pickup[:, 0]\nlon",
      "outputs": [
        {
          "metadata": {},
          "execution_count": 6,
          "data": {
            "text/plain": "array([-73.9559, -74.0055, ..., -73.9784, -73.9872])"
          },
          "output_type": "execute_result"
        }
      ],
      "execution_count": 6
    },
    {
      "metadata": {},
      "cell_type": "code",
      "source": "lat = pickup[:, 1]\nlat",
      "outputs": [
        {
          "metadata": {},
          "execution_count": 7,
          "data": {
            "text/plain": "array([ 40.7818, 40.7457, ..., 40.7729, 40.7505])"
          },
          "output_type": "execute_result"
        }
      ],
      "execution_count": 7
    },
    {
      "metadata": {},
      "source": "### Boolean operations on arrays",
      "cell_type": "markdown"
    },
    {
      "metadata": {},
      "cell_type": "code",
      "source": "lon_min, lon_max = (-73.98330, -73.98025)\nlat_min, lat_max = ( 40.76724,  40.76871)",
      "outputs": [],
      "execution_count": 8
    },
    {
      "metadata": {},
      "cell_type": "code",
      "source": "in_lon = (lon_min <= lon) & (lon <= lon_max)\nin_lon",
      "outputs": [
        {
          "metadata": {},
          "execution_count": 9,
          "data": {
            "text/plain": "array([False, False, False, ..., False, False, False], dtype=bool)"
          },
          "output_type": "execute_result"
        }
      ],
      "execution_count": 9
    },
    {
      "metadata": {},
      "cell_type": "code",
      "source": "in_lon.sum()",
      "outputs": [
        {
          "metadata": {},
          "execution_count": 10,
          "data": {
            "text/plain": "69163"
          },
          "output_type": "execute_result"
        }
      ],
      "execution_count": 10
    },
    {
      "metadata": {},
      "cell_type": "code",
      "source": "in_lat = (lat_min <= lat) & (lat <= lat_max)",
      "outputs": [],
      "execution_count": 11
    },
    {
      "metadata": {},
      "cell_type": "code",
      "source": "in_lonlat = in_lon & in_lat\nin_lonlat.sum()",
      "outputs": [
        {
          "metadata": {},
          "execution_count": 12,
          "data": {
            "text/plain": "3998"
          },
          "output_type": "execute_result"
        }
      ],
      "execution_count": 12
    },
    {
      "metadata": {},
      "cell_type": "code",
      "source": "np.nonzero(in_lonlat)[0]",
      "outputs": [
        {
          "metadata": {},
          "execution_count": 13,
          "data": {
            "text/plain": "array([   901,   1011,   1066, ..., 845749, 845903, 846080])"
          },
          "output_type": "execute_result"
        }
      ],
      "execution_count": 13
    },
    {
      "metadata": {},
      "cell_type": "code",
      "source": "lon1, lat1 = dropoff.T",
      "outputs": [],
      "execution_count": 14
    },
    {
      "metadata": {},
      "source": "### Mathematical operations on arrays",
      "cell_type": "markdown"
    },
    {
      "metadata": {},
      "cell_type": "code",
      "source": "EARTH_R = 6372.8\ndef geo_distance(lon0, lat0, lon1, lat1):\n    \"\"\"Return the distance (in km) between two points in\n    geographical coordinates.\"\"\"\n    # from: http://en.wikipedia.org/wiki/Great-circle_distance\n    # and: http://stackoverflow.com/a/8859667/1595060\n    lat0 = np.radians(lat0)\n    lon0 = np.radians(lon0)\n    lat1 = np.radians(lat1)\n    lon1 = np.radians(lon1)\n    dlon = lon0 - lon1\n    y = np.sqrt(\n        (np.cos(lat1) * np.sin(dlon)) ** 2\n         + (np.cos(lat0) * np.sin(lat1)\n         - np.sin(lat0) * np.cos(lat1) * np.cos(dlon)) ** 2)\n    x = np.sin(lat0) * np.sin(lat1) + \\\n        np.cos(lat0) * np.cos(lat1) * np.cos(dlon)\n    c = np.arctan2(y, x)\n    return EARTH_R * c",
      "outputs": [],
      "execution_count": 15
    },
    {
      "metadata": {},
      "cell_type": "code",
      "source": "distances = geo_distance(lon, lat, lon1, lat1)",
      "outputs": [],
      "execution_count": 16
    },
    {
      "metadata": {},
      "cell_type": "code",
      "source": "plt.hist(distances[in_lonlat], np.linspace(0., 10., 50))\nplt.xlabel('Trip distance (km)')\nplt.ylabel('Number of trips')",
      "outputs": [],
      "execution_count": 17
    },
    {
      "metadata": {},
      "source": "### A density map with NumPy",
      "cell_type": "markdown"
    },
    {
      "metadata": {},
      "cell_type": "code",
      "source": "evening = (data.pickup_datetime.dt.hour >= 19).values",
      "outputs": [],
      "execution_count": 18
    },
    {
      "metadata": {},
      "cell_type": "code",
      "source": "n = np.sum(evening)",
      "outputs": [],
      "execution_count": 19
    },
    {
      "metadata": {},
      "cell_type": "code",
      "source": "n",
      "outputs": [
        {
          "metadata": {},
          "execution_count": 20,
          "data": {
            "text/plain": "242818"
          },
          "output_type": "execute_result"
        }
      ],
      "execution_count": 20
    },
    {
      "metadata": {},
      "cell_type": "code",
      "source": "weights = np.zeros(2 * n)",
      "outputs": [],
      "execution_count": 21
    },
    {
      "metadata": {},
      "cell_type": "code",
      "source": "weights[:n] = -1\nweights[n:] = +1",
      "outputs": [],
      "execution_count": 22
    },
    {
      "metadata": {},
      "cell_type": "code",
      "source": "points = np.r_[pickup[evening],\n               dropoff[evening]]",
      "outputs": [],
      "execution_count": 23
    },
    {
      "metadata": {},
      "cell_type": "code",
      "source": "points.shape",
      "outputs": [
        {
          "metadata": {},
          "execution_count": 24,
          "data": {
            "text/plain": "(485636, 2)"
          },
          "output_type": "execute_result"
        }
      ],
      "execution_count": 24
    },
    {
      "metadata": {},
      "cell_type": "code",
      "source": "bin = .0001\nbins_lon = np.arange(-74.0214, -73.9524, bin)\nbins_lat = np.arange(+40.6978, +40.7982, bin)",
      "outputs": [],
      "execution_count": 25
    },
    {
      "metadata": {},
      "cell_type": "code",
      "source": "grid, _, _ = np.histogram2d(points[:, 0], points[:, 1],\n                            weights=weights,\n                            bins=(bins_lon, bins_lat))",
      "outputs": [],
      "execution_count": 26
    },
    {
      "metadata": {},
      "cell_type": "code",
      "source": "density = 1. / (1. + np.exp(-.5 * grid))",
      "outputs": [],
      "execution_count": 27
    },
    {
      "metadata": {},
      "cell_type": "code",
      "source": "plt.imshow(density.T,\n           origin='lower',\n           interpolation='bicubic'\n          )\nplt.axis('off')",
      "outputs": [],
      "execution_count": 28
    },
    {
      "metadata": {},
      "source": "### Other topics",
      "cell_type": "markdown"
    }
  ],
  "nbformat": 4,
  "nbformat_minor": 0
}