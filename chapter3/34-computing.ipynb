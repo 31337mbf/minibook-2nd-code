{
  "cells": [
    {
      "metadata": {},
      "source": "## Computing with NumPy arrays",
      "cell_type": "markdown"
    },
    {
      "execution_count": 1,
      "metadata": {},
      "cell_type": "code",
      "outputs": [],
      "source": "import numpy as np\nimport pandas as pd\nimport matplotlib.pyplot as plt\nimport seaborn as sns\n%matplotlib inline"
    },
    {
      "execution_count": 2,
      "metadata": {},
      "cell_type": "code",
      "outputs": [],
      "source": "data = pd.read_csv('../chapter2/data/nyc_data.csv',\n                   parse_dates=['pickup_datetime', 'dropoff_datetime'])"
    },
    {
      "execution_count": 3,
      "metadata": {},
      "cell_type": "code",
      "outputs": [
        {
          "execution_count": 3,
          "metadata": {},
          "output_type": "execute_result",
          "data": {
            "text/plain": "array([[-73.955925,  40.781887],\n       [-74.005501,  40.745735],\n       [-73.969955,  40.79977 ],\n       ...,\n       [-73.993492,  40.729347],\n       [-73.978477,  40.772945],\n       [-73.987206,  40.750568]])"
          }
        }
      ],
      "source": "pickup = data[['pickup_longitude', 'pickup_latitude']].values\ndropoff = data[['dropoff_longitude', 'dropoff_latitude']].values\npickup"
    },
    {
      "metadata": {},
      "source": "### Selection and indexing",
      "cell_type": "markdown"
    },
    {
      "execution_count": 4,
      "metadata": {},
      "cell_type": "code",
      "outputs": [
        {
          "execution_count": 4,
          "metadata": {},
          "output_type": "execute_result",
          "data": {
            "text/plain": "40.755081"
          }
        }
      ],
      "source": "print(pickup[3, 1])"
    },
    {
      "execution_count": 5,
      "metadata": {},
      "cell_type": "code",
      "outputs": [
        {
          "execution_count": 5,
          "metadata": {},
          "output_type": "execute_result",
          "data": {
            "text/plain": "array([[ 40.745735],\n       [ 40.755081],\n       [ 40.768978]])"
          }
        }
      ],
      "source": "pickup[1:7:2, 1:]"
    },
    {
      "execution_count": 6,
      "metadata": {},
      "cell_type": "code",
      "outputs": [
        {
          "execution_count": 6,
          "metadata": {},
          "output_type": "execute_result",
          "data": {
            "text/plain": "array([-73.9559, -74.0055, ..., -73.9784, -73.9872])"
          }
        }
      ],
      "source": "lon = pickup[:, 0]\nlon"
    },
    {
      "execution_count": 7,
      "metadata": {},
      "cell_type": "code",
      "outputs": [
        {
          "execution_count": 7,
          "metadata": {},
          "output_type": "execute_result",
          "data": {
            "text/plain": "array([ 40.7818, 40.7457, ..., 40.7729, 40.7505])"
          }
        }
      ],
      "source": "lat = pickup[:, 1]\nlat"
    },
    {
      "metadata": {},
      "source": "### Boolean operations on arrays",
      "cell_type": "markdown"
    },
    {
      "execution_count": 8,
      "metadata": {},
      "cell_type": "code",
      "outputs": [],
      "source": "lon_min, lon_max = (-73.98330, -73.98025)\nlat_min, lat_max = ( 40.76724,  40.76871)"
    },
    {
      "execution_count": 9,
      "metadata": {},
      "cell_type": "code",
      "outputs": [
        {
          "execution_count": 9,
          "metadata": {},
          "output_type": "execute_result",
          "data": {
            "text/plain": "array([False, False, False, ..., False, False, False], dtype=bool)"
          }
        }
      ],
      "source": "in_lon = (lon_min <= lon) & (lon <= lon_max)\nin_lon"
    },
    {
      "execution_count": 10,
      "metadata": {},
      "cell_type": "code",
      "outputs": [
        {
          "execution_count": 10,
          "metadata": {},
          "output_type": "execute_result",
          "data": {
            "text/plain": "69163"
          }
        }
      ],
      "source": "in_lon.sum()"
    },
    {
      "execution_count": 11,
      "metadata": {},
      "cell_type": "code",
      "outputs": [],
      "source": "in_lat = (lat_min <= lat) & (lat <= lat_max)"
    },
    {
      "execution_count": 12,
      "metadata": {},
      "cell_type": "code",
      "outputs": [
        {
          "execution_count": 12,
          "metadata": {},
          "output_type": "execute_result",
          "data": {
            "text/plain": "3998"
          }
        }
      ],
      "source": "in_lonlat = in_lon & in_lat\nin_lonlat.sum()"
    },
    {
      "execution_count": 13,
      "metadata": {},
      "cell_type": "code",
      "outputs": [
        {
          "execution_count": 13,
          "metadata": {},
          "output_type": "execute_result",
          "data": {
            "text/plain": "array([   901,   1011,   1066, ..., 845749, 845903, 846080])"
          }
        }
      ],
      "source": "np.nonzero(in_lonlat)[0]"
    },
    {
      "execution_count": 14,
      "metadata": {},
      "cell_type": "code",
      "outputs": [],
      "source": "lon1, lat1 = dropoff.T"
    },
    {
      "metadata": {},
      "source": "### Mathematical operations on arrays",
      "cell_type": "markdown"
    },
    {
      "execution_count": 15,
      "metadata": {},
      "cell_type": "code",
      "outputs": [],
      "source": "EARTH_R = 6372.8\ndef geo_distance(lon0, lat0, lon1, lat1):\n    \"\"\"Return the distance (in km) between two points in\n    geographical coordinates.\"\"\"\n    # from: http://en.wikipedia.org/wiki/Great-circle_distance\n    # and: http://stackoverflow.com/a/8859667/1595060\n    lat0 = np.radians(lat0)\n    lon0 = np.radians(lon0)\n    lat1 = np.radians(lat1)\n    lon1 = np.radians(lon1)\n    dlon = lon0 - lon1\n    y = np.sqrt(\n        (np.cos(lat1) * np.sin(dlon)) ** 2\n         + (np.cos(lat0) * np.sin(lat1)\n         - np.sin(lat0) * np.cos(lat1) * np.cos(dlon)) ** 2)\n    x = np.sin(lat0) * np.sin(lat1) + \\\n        np.cos(lat0) * np.cos(lat1) * np.cos(dlon)\n    c = np.arctan2(y, x)\n    return EARTH_R * c"
    },
    {
      "execution_count": 16,
      "metadata": {},
      "cell_type": "code",
      "outputs": [],
      "source": "distances = geo_distance(lon, lat, lon1, lat1)"
    },
    {
      "execution_count": 17,
      "metadata": {},
      "cell_type": "code",
      "outputs": [],
      "source": "plt.hist(distances[in_lonlat], np.linspace(0., 10., 50))\nplt.xlabel('Trip distance (km)')\nplt.ylabel('Number of trips')"
    },
    {
      "metadata": {},
      "source": "### A density map with NumPy",
      "cell_type": "markdown"
    },
    {
      "execution_count": 18,
      "metadata": {},
      "cell_type": "code",
      "outputs": [],
      "source": "evening = (data.pickup_datetime.dt.hour >= 19).values"
    },
    {
      "execution_count": 19,
      "metadata": {},
      "cell_type": "code",
      "outputs": [],
      "source": "n = np.sum(evening)"
    },
    {
      "execution_count": 20,
      "metadata": {},
      "cell_type": "code",
      "outputs": [
        {
          "execution_count": 20,
          "metadata": {},
          "output_type": "execute_result",
          "data": {
            "text/plain": "242818"
          }
        }
      ],
      "source": "n"
    },
    {
      "execution_count": 21,
      "metadata": {},
      "cell_type": "code",
      "outputs": [],
      "source": "weights = np.zeros(2 * n)"
    },
    {
      "execution_count": 22,
      "metadata": {},
      "cell_type": "code",
      "outputs": [],
      "source": "weights[:n] = -1\nweights[n:] = +1"
    },
    {
      "execution_count": 23,
      "metadata": {},
      "cell_type": "code",
      "outputs": [],
      "source": "points = np.r_[pickup[evening],\n               dropoff[evening]]"
    },
    {
      "execution_count": 24,
      "metadata": {},
      "cell_type": "code",
      "outputs": [
        {
          "execution_count": 24,
          "metadata": {},
          "output_type": "execute_result",
          "data": {
            "text/plain": "(485636, 2)"
          }
        }
      ],
      "source": "points.shape"
    },
    {
      "execution_count": 25,
      "metadata": {},
      "cell_type": "code",
      "outputs": [],
      "source": "bin = .0001\nbins_lon = np.arange(-74.0214, -73.9524, bin)\nbins_lat = np.arange(+40.6978, +40.7982, bin)"
    },
    {
      "execution_count": 26,
      "metadata": {},
      "cell_type": "code",
      "outputs": [],
      "source": "grid, _, _ = np.histogram2d(points[:, 0], points[:, 1],\n                            weights=weights,\n                            bins=(bins_lon, bins_lat))"
    },
    {
      "execution_count": 27,
      "metadata": {},
      "cell_type": "code",
      "outputs": [],
      "source": "density = 1. / (1. + np.exp(-.5 * grid))"
    },
    {
      "execution_count": 28,
      "metadata": {},
      "cell_type": "code",
      "outputs": [],
      "source": "plt.imshow(density.T,\n           origin='lower',\n           interpolation='bicubic'\n          )\nplt.axis('off')"
    },
    {
      "metadata": {},
      "source": "### Other topics",
      "cell_type": "markdown"
    }
  ],
  "metadata": {},
  "nbformat_minor": 0,
  "nbformat": 4
}