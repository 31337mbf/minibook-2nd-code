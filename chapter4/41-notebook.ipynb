{
  "cells": [
    {
      "metadata": {},
      "source": "## Choosing a plotting backend",
      "cell_type": "markdown"
    },
    {
      "metadata": {},
      "source": "### Inline plots",
      "cell_type": "markdown"
    },
    {
      "execution_count": 1,
      "metadata": {},
      "cell_type": "code",
      "outputs": [],
      "source": "import numpy as np\nimport matplotlib.pyplot as plt"
    },
    {
      "execution_count": 2,
      "metadata": {},
      "cell_type": "code",
      "outputs": [],
      "source": "%matplotlib inline"
    },
    {
      "execution_count": 3,
      "metadata": {},
      "cell_type": "code",
      "outputs": [],
      "source": "plt.imshow(np.random.rand(10, 10), interpolation='none')"
    },
    {
      "metadata": {},
      "source": "### Exported figures",
      "cell_type": "markdown"
    },
    {
      "metadata": {},
      "source": "### GUI toolkits",
      "cell_type": "markdown"
    },
    {
      "execution_count": 4,
      "metadata": {},
      "cell_type": "code",
      "outputs": [],
      "source": "%matplotlib qt\nplt.imshow(np.random.rand(10, 10), interpolation='none')"
    },
    {
      "metadata": {},
      "source": "### Dynamic inline plots",
      "cell_type": "markdown"
    },
    {
      "execution_count": 5,
      "metadata": {},
      "cell_type": "code",
      "outputs": [],
      "source": "import matplotlib\nmatplotlib.use('nbagg')"
    },
    {
      "execution_count": 6,
      "metadata": {},
      "cell_type": "code",
      "outputs": [],
      "source": "plt.imshow(np.random.rand(10, 10), interpolation='none')\nplt.show()"
    },
    {
      "metadata": {},
      "source": "### Web-based visualization",
      "cell_type": "markdown"
    },
    {
      "execution_count": 7,
      "metadata": {},
      "cell_type": "code",
      "outputs": [],
      "source": "import mpld3\nmpld3.enable_notebook()"
    },
    {
      "execution_count": 8,
      "metadata": {},
      "cell_type": "code",
      "outputs": [],
      "source": "plt.imshow(np.random.rand(10, 10), interpolation='none')"
    }
  ],
  "metadata": {},
  "nbformat_minor": 0,
  "nbformat": 4
}