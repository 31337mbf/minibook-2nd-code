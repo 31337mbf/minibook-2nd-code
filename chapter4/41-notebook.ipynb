{
  "metadata": {},
  "cells": [
    {
      "metadata": {},
      "source": "## Choosing a plotting backend",
      "cell_type": "markdown"
    },
    {
      "metadata": {},
      "source": "### Inline plots",
      "cell_type": "markdown"
    },
    {
      "metadata": {},
      "cell_type": "code",
      "source": "import numpy as np\nimport matplotlib.pyplot as plt",
      "outputs": [],
      "execution_count": 1
    },
    {
      "metadata": {},
      "cell_type": "code",
      "source": "%matplotlib inline",
      "outputs": [],
      "execution_count": 2
    },
    {
      "metadata": {},
      "cell_type": "code",
      "source": "plt.imshow(np.random.rand(10, 10), interpolation='none')",
      "outputs": [],
      "execution_count": 3
    },
    {
      "metadata": {},
      "source": "### Exported figures",
      "cell_type": "markdown"
    },
    {
      "metadata": {},
      "source": "### GUI toolkits",
      "cell_type": "markdown"
    },
    {
      "metadata": {},
      "cell_type": "code",
      "source": "%matplotlib qt\nplt.imshow(np.random.rand(10, 10), interpolation='none')",
      "outputs": [],
      "execution_count": 4
    },
    {
      "metadata": {},
      "source": "### Dynamic inline plots",
      "cell_type": "markdown"
    },
    {
      "metadata": {},
      "cell_type": "code",
      "source": "import matplotlib\nmatplotlib.use('nbagg')",
      "outputs": [],
      "execution_count": 5
    },
    {
      "metadata": {},
      "cell_type": "code",
      "source": "plt.imshow(np.random.rand(10, 10), interpolation='none')\nplt.show()",
      "outputs": [],
      "execution_count": 6
    },
    {
      "metadata": {},
      "source": "### Web-based visualization",
      "cell_type": "markdown"
    },
    {
      "metadata": {},
      "cell_type": "code",
      "source": "import mpld3\nmpld3.enable_notebook()",
      "outputs": [],
      "execution_count": 7
    },
    {
      "metadata": {},
      "cell_type": "code",
      "source": "plt.imshow(np.random.rand(10, 10), interpolation='none')",
      "outputs": [],
      "execution_count": 8
    }
  ],
  "nbformat": 4,
  "nbformat_minor": 0
}