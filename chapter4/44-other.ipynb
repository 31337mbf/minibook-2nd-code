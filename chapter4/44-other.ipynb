{
  "metadata": {},
  "cells": [
    {
      "metadata": {},
      "source": "## Further plotting and visualization libraries",
      "cell_type": "markdown"
    },
    {
      "metadata": {},
      "source": "### High-level plotting",
      "cell_type": "markdown"
    },
    {
      "metadata": {},
      "source": "### Maps and geometry",
      "cell_type": "markdown"
    },
    {
      "metadata": {},
      "source": "### 3D visualization",
      "cell_type": "markdown"
    }
  ],
  "nbformat": 4,
  "nbformat_minor": 0
}