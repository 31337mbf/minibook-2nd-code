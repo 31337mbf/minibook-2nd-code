{
  "metadata": {},
  "cells": [
    {
      "metadata": {},
      "source": "## matplotlib and seaborn essentials",
      "cell_type": "markdown"
    },
    {
      "metadata": {},
      "cell_type": "code",
      "source": "import numpy as np\nimport matplotlib.pyplot as plt\nimport seaborn\n%matplotlib inline",
      "outputs": [],
      "execution_count": 1
    },
    {
      "metadata": {},
      "source": "### Common plots with matplotlib",
      "cell_type": "markdown"
    },
    {
      "metadata": {},
      "cell_type": "code",
      "source": "y = np.random.randn(1000)",
      "outputs": [],
      "execution_count": 2
    },
    {
      "metadata": {},
      "cell_type": "code",
      "source": "plt.plot(y)",
      "outputs": [],
      "execution_count": 3
    },
    {
      "metadata": {},
      "cell_type": "code",
      "source": "x = np.linspace(-10., 10., 1000)\ny = np.sin(3 * x) * np.exp(-.1 * x**2)",
      "outputs": [],
      "execution_count": 4
    },
    {
      "metadata": {},
      "cell_type": "code",
      "source": "plt.plot(x, y)",
      "outputs": [],
      "execution_count": 5
    },
    {
      "metadata": {},
      "cell_type": "code",
      "source": "x = np.linspace(-5., 5., 100)\ny = np.sin(3 * x) * np.exp(-.1 * x ** 2)",
      "outputs": [],
      "execution_count": 6
    },
    {
      "metadata": {},
      "cell_type": "code",
      "source": "plt.plot(x, y, '--^',\n         lw=3, color='#fdbb84',\n         mfc='#2b8cbe', ms=8)",
      "outputs": [],
      "execution_count": 7
    },
    {
      "metadata": {},
      "cell_type": "code",
      "source": "x = np.random.randn(100)\ny = x + np.random.randn(100)",
      "outputs": [],
      "execution_count": 8
    },
    {
      "metadata": {},
      "cell_type": "code",
      "source": "plt.scatter(x, y)",
      "outputs": [],
      "execution_count": 9
    },
    {
      "metadata": {},
      "source": "### Customizing matplotlib figures",
      "cell_type": "markdown"
    },
    {
      "metadata": {},
      "cell_type": "code",
      "source": "# Left panel.\nplt.subplot(1, 2, 1)\nx = np.linspace(-10., 10., 1000)\nplt.plot(x, np.sin(x), '-r', label='sinus')\nplt.plot(x, np.cos(x), ':g', lw=1, label='cosinus')\nplt.xticks([-10, 0, 10])\nplt.yticks([-1, 0, 1])\nplt.ylim(-2, 2)\nplt.xlabel(\"x axis\")\nplt.ylabel(\"y axis\")\nplt.title(\"Two plots\")\nplt.legend()\n\n# Right panel.\nplt.subplot(1, 2, 2, polar=True)\nx = np.linspace(0, 2 * np.pi, 1000)\nplt.plot(x, 1 + 2 * np.cos(6 * x))\nplt.yticks([])\nplt.xlim(-.1, 3.1)\nplt.ylim(-.1, 3.1)\nplt.xticks(np.linspace(0, 5 * np.pi / 3, 6))\nplt.title(\"A polar plot\")\nplt.grid(color='k', linewidth=1, linestyle=':')",
      "outputs": [],
      "execution_count": 10
    },
    {
      "metadata": {},
      "source": "### Interacting with matplotlib figures in the Notebook",
      "cell_type": "markdown"
    },
    {
      "metadata": {},
      "cell_type": "code",
      "source": "from IPython.html.widgets import interact",
      "outputs": [],
      "execution_count": 11
    },
    {
      "metadata": {},
      "cell_type": "code",
      "source": "x = np.linspace(-5., 5., 1000)",
      "outputs": [],
      "execution_count": 12
    },
    {
      "metadata": {},
      "cell_type": "code",
      "source": "@interact\ndef plot_sin(a=(1, 10)):\n    plt.plot(x, np.sin(a*x))\n    plt.ylim(-1, 1)",
      "outputs": [],
      "execution_count": 13
    },
    {
      "metadata": {},
      "cell_type": "code",
      "source": "%matplotlib qt",
      "outputs": [],
      "execution_count": 14
    },
    {
      "metadata": {},
      "cell_type": "code",
      "source": "lines = plt.plot([0, 1], [0, 1], 'b')",
      "outputs": [],
      "execution_count": 15
    },
    {
      "metadata": {},
      "cell_type": "code",
      "source": "lines",
      "outputs": [
        {
          "metadata": {},
          "execution_count": 16,
          "data": {
            "text/plain": "[<matplotlib.lines.Line2D at 0x7ffa434542e8>]"
          },
          "output_type": "execute_result"
        }
      ],
      "execution_count": 16
    },
    {
      "metadata": {},
      "cell_type": "code",
      "source": "lines[0].set_color('r')\nplt.draw()",
      "outputs": [],
      "execution_count": 17
    },
    {
      "metadata": {},
      "source": "### High-level plotting with seaborn",
      "cell_type": "markdown"
    },
    {
      "metadata": {},
      "cell_type": "code",
      "source": "df = seaborn.load_dataset(\"iris\")\ndf.head(3)",
      "outputs": [
        {
          "metadata": {},
          "execution_count": 18,
          "data": {
            "text/plain": "   sepal_length  sepal_width  petal_length  petal_width species\n0           5.1          3.5           1.4          0.2  setosa\n1           4.9          3.0           1.4          0.2  setosa\n2           4.7          3.2           1.3          0.2  setosa"
          },
          "output_type": "execute_result"
        }
      ],
      "execution_count": 18
    },
    {
      "metadata": {},
      "cell_type": "code",
      "source": "seaborn.pairplot(df, hue=\"species\", size=2.5)",
      "outputs": [],
      "execution_count": 19
    }
  ],
  "nbformat": 4,
  "nbformat_minor": 0
}