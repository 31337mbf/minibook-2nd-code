{
  "metadata": {},
  "cells": [
    {
      "metadata": {},
      "source": "## Exploring a dataset in the Notebook",
      "cell_type": "markdown"
    },
    {
      "metadata": {},
      "source": "### Provenance of the data",
      "cell_type": "markdown"
    },
    {
      "metadata": {},
      "source": "### Downloading and loading a dataset",
      "cell_type": "markdown"
    },
    {
      "metadata": {},
      "cell_type": "code",
      "source": "import numpy as np\nimport pandas as pd\nimport matplotlib.pyplot as plt\n%matplotlib inline",
      "outputs": [],
      "execution_count": 1
    },
    {
      "metadata": {},
      "cell_type": "code",
      "source": "%cd ~/minibook/chapter2/",
      "outputs": [],
      "execution_count": 2
    },
    {
      "metadata": {},
      "cell_type": "code",
      "source": "!curl -O https://github.com/ipython-books/minibook-2nd-data/blob/master/nyc_taxi.zip?raw=true\n!unzip nyc_taxi.zip",
      "outputs": [],
      "execution_count": 3
    },
    {
      "metadata": {},
      "cell_type": "code",
      "source": "%ls data",
      "outputs": [
        {
          "metadata": {},
          "execution_count": 4,
          "data": {
            "text/plain": "nyc_data.csv  nyc_fare.csv  [...]"
          },
          "output_type": "execute_result"
        }
      ],
      "execution_count": 4
    },
    {
      "metadata": {},
      "cell_type": "code",
      "source": "data_filename = 'data/nyc_data.csv'\nfare_filename = 'data/nyc_fare.csv'",
      "outputs": [],
      "execution_count": 5
    },
    {
      "metadata": {},
      "cell_type": "code",
      "source": "data = pd.read_csv(data_filename, parse_dates=['pickup_datetime',\n                                               'dropoff_datetime'])\nfare = pd.read_csv(fare_filename, parse_dates=['pickup_datetime'])",
      "outputs": [],
      "execution_count": 6
    },
    {
      "metadata": {},
      "cell_type": "code",
      "source": "data.head(3)",
      "outputs": [],
      "execution_count": 7
    },
    {
      "metadata": {},
      "source": "### Making plots with matplotlib",
      "cell_type": "markdown"
    },
    {
      "metadata": {},
      "cell_type": "code",
      "source": "data.columns",
      "outputs": [
        {
          "metadata": {},
          "execution_count": 8,
          "data": {
            "text/plain": "Index(['medallion',\n       ...\n       'pickup_datetime',\n       'dropoff_datetime',\n       'passenger_count',\n       'trip_time_in_secs',\n       'trip_distance',\n       'pickup_longitude',\n       'pickup_latitude',\n       'dropoff_longitude',\n       'dropoff_latitude'], dtype='object')"
          },
          "output_type": "execute_result"
        }
      ],
      "execution_count": 8
    },
    {
      "metadata": {},
      "cell_type": "code",
      "source": "p_lng = data.pickup_longitude\np_lat = data.pickup_latitude\nd_lng = data.dropoff_longitude\nd_lat = data.dropoff_latitude",
      "outputs": [],
      "execution_count": 9
    },
    {
      "metadata": {},
      "cell_type": "code",
      "source": "p_lng",
      "outputs": [
        {
          "metadata": {},
          "execution_count": 10,
          "data": {
            "text/plain": "0        -73.955925\n1        -74.005501\n...\n846943   -73.978477\n846944   -73.987206\nName: pickup_longitude, Length: 846945, dtype: float64"
          },
          "output_type": "execute_result"
        }
      ],
      "execution_count": 10
    },
    {
      "metadata": {},
      "cell_type": "code",
      "source": "def lat_lng_to_pixels(lat, lng):\n    lat_rad = lat * np.pi / 180.0\n    lat_rad = np.log(np.tan((lat_rad + np.pi / 2.0) / 2.0))\n    x = 100 * (lng + 180.0) / 360.0\n    y = 100 * (lat_rad - np.pi) / (2.0 * np.pi)\n    return (x, y)",
      "outputs": [],
      "execution_count": 11
    },
    {
      "metadata": {},
      "cell_type": "code",
      "source": "px, py = lat_lng_to_pixels(p_lat, p_lng)",
      "outputs": [],
      "execution_count": 12
    },
    {
      "metadata": {},
      "cell_type": "code",
      "source": "px",
      "outputs": [
        {
          "metadata": {},
          "execution_count": 13,
          "data": {
            "text/plain": "0         29.456688\n1         29.442916\n...\n846943    29.450423\n846944    29.447998\nName: pickup_longitude, dtype: float64"
          },
          "output_type": "execute_result"
        }
      ],
      "execution_count": 13
    },
    {
      "metadata": {},
      "cell_type": "code",
      "source": "plt.scatter(px, py)",
      "outputs": [],
      "execution_count": 14
    },
    {
      "metadata": {},
      "cell_type": "code",
      "source": "plt.figure(figsize=(8, 6))\nplt.scatter(px, py, s=.1, alpha=.03)\nplt.axis('equal')\nplt.xlim(29.40, 29.55)\nplt.ylim(-37.63, -37.54)\nplt.axis('off')",
      "outputs": [],
      "execution_count": 15
    },
    {
      "metadata": {},
      "source": "### Descriptive statistics with pandas and seaborn",
      "cell_type": "markdown"
    },
    {
      "metadata": {},
      "cell_type": "code",
      "source": "px.count(), px.min(), px.max()",
      "outputs": [
        {
          "metadata": {},
          "execution_count": 16,
          "data": {
            "text/plain": "(846945, 29.417137499999995, 29.714313055555561)"
          },
          "output_type": "execute_result"
        }
      ],
      "execution_count": 16
    },
    {
      "metadata": {},
      "cell_type": "code",
      "source": "px.mean(), px.median(), px.std()",
      "outputs": [
        {
          "metadata": {},
          "execution_count": 17,
          "data": {
            "text/plain": "(29.451345807768575, 29.449418333333337, 0.0097616942794720614)"
          },
          "output_type": "execute_result"
        }
      ],
      "execution_count": 17
    },
    {
      "metadata": {},
      "cell_type": "code",
      "source": "!conda install seaborn -q -y",
      "outputs": [],
      "execution_count": 18
    },
    {
      "metadata": {},
      "cell_type": "code",
      "source": "import seaborn as sns\nsns.__version__",
      "outputs": [
        {
          "metadata": {},
          "execution_count": 19,
          "data": {
            "text/plain": "'0.6.0'"
          },
          "output_type": "execute_result"
        }
      ],
      "execution_count": 19
    },
    {
      "metadata": {},
      "cell_type": "code",
      "source": "data.trip_distance.hist(bins=np.linspace(0., 10., 100))",
      "outputs": [],
      "execution_count": 20
    }
  ],
  "nbformat": 4,
  "nbformat_minor": 0
}