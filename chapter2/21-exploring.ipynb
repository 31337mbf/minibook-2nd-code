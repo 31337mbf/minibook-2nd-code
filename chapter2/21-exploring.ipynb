{
  "cells": [
    {
      "metadata": {},
      "source": "## Exploring a dataset in the notebook",
      "cell_type": "markdown"
    },
    {
      "metadata": {},
      "source": "### Provenance of the data",
      "cell_type": "markdown"
    },
    {
      "metadata": {},
      "source": "### How we cleaned up the data",
      "cell_type": "markdown"
    },
    {
      "metadata": {},
      "source": "### Downloading and loading a dataset",
      "cell_type": "markdown"
    },
    {
      "execution_count": 1,
      "metadata": {},
      "cell_type": "code",
      "outputs": [],
      "source": "import numpy as np\nimport pandas as pd\nimport matplotlib.pyplot as plt\n%matplotlib inline"
    },
    {
      "execution_count": 2,
      "metadata": {},
      "cell_type": "code",
      "outputs": [],
      "source": "!wget https://github.com/ipython-books/minibook-2nd-data/blob/master/nyc_taxi.zip?raw=true -O nyc_taxi.zip"
    },
    {
      "execution_count": 3,
      "metadata": {},
      "cell_type": "code",
      "outputs": [],
      "source": "!unzip nyc_taxi.zip"
    },
    {
      "execution_count": 4,
      "metadata": {},
      "cell_type": "code",
      "outputs": [
        {
          "execution_count": 4,
          "metadata": {},
          "output_type": "execute_result",
          "data": {
            "text/plain": "nyc_data.csv  nyc_fare.csv  [...]"
          }
        }
      ],
      "source": "%ls data"
    },
    {
      "execution_count": 5,
      "metadata": {},
      "cell_type": "code",
      "outputs": [],
      "source": "data_filename = 'data/nyc_data.csv'\nfare_filename = 'data/nyc_fare.csv'"
    },
    {
      "execution_count": 6,
      "metadata": {},
      "cell_type": "code",
      "outputs": [],
      "source": "data = pd.read_csv(data_filename, parse_dates=['pickup_datetime',\n                                               'dropoff_datetime'])"
    },
    {
      "execution_count": 7,
      "metadata": {},
      "cell_type": "code",
      "outputs": [],
      "source": "fare = pd.read_csv(fare_filename, parse_dates=['pickup_datetime'])"
    },
    {
      "execution_count": 8,
      "metadata": {},
      "cell_type": "code",
      "outputs": [],
      "source": "data.head(3)"
    },
    {
      "metadata": {},
      "source": "### Making plots with matplotlib",
      "cell_type": "markdown"
    },
    {
      "execution_count": 9,
      "metadata": {},
      "cell_type": "code",
      "outputs": [
        {
          "execution_count": 9,
          "metadata": {},
          "output_type": "execute_result",
          "data": {
            "text/plain": "Index(['medallion',\n       ...\n       'pickup_datetime',\n       'dropoff_datetime',\n       'passenger_count',\n       'trip_time_in_secs',\n       'trip_distance',\n       'pickup_longitude',\n       'pickup_latitude',\n       'dropoff_longitude',\n       'dropoff_latitude'], dtype='object')"
          }
        }
      ],
      "source": "data.columns"
    },
    {
      "execution_count": 10,
      "metadata": {},
      "cell_type": "code",
      "outputs": [],
      "source": "px = data.pickup_longitude\npy = data.pickup_latitude\ndx = data.dropoff_longitude\ndy = data.dropoff_latitude"
    },
    {
      "execution_count": 11,
      "metadata": {},
      "cell_type": "code",
      "outputs": [
        {
          "execution_count": 11,
          "metadata": {},
          "output_type": "execute_result",
          "data": {
            "text/plain": "0        -73.955925\n1        -74.005501\n...\n846943   -73.978477\n846944   -73.987206\nName: pickup_longitude, Length: 846945, dtype: float64"
          }
        }
      ],
      "source": "px"
    },
    {
      "execution_count": 12,
      "metadata": {},
      "cell_type": "code",
      "outputs": [],
      "source": "plt.scatter(px, py)"
    },
    {
      "execution_count": 13,
      "metadata": {},
      "cell_type": "code",
      "outputs": [],
      "source": "plt.figure(figsize=(8, 6))\nplt.scatter(px, py, linewidths=1e-2, s=1, alpha=.03)\nplt.xlim(-74.1, -73.7)\nplt.ylim(40.6, 40.9)\nplt.axis('off')"
    },
    {
      "metadata": {},
      "source": "### Descriptive statistics with pandas and seaborn",
      "cell_type": "markdown"
    },
    {
      "execution_count": 14,
      "metadata": {},
      "cell_type": "code",
      "outputs": [
        {
          "execution_count": 14,
          "metadata": {},
          "output_type": "execute_result",
          "data": {
            "text/plain": "(846945, -74.098305000000025, -73.028472999999977)"
          }
        }
      ],
      "source": "px.count(), px.min(), px.max()"
    },
    {
      "execution_count": 15,
      "metadata": {},
      "cell_type": "code",
      "outputs": [
        {
          "execution_count": 15,
          "metadata": {},
          "output_type": "execute_result",
          "data": {
            "text/plain": "(-73.975155092033091, -73.98209399999998, 0.03514209949581662)"
          }
        }
      ],
      "source": "px.mean(), px.median(), px.std()"
    },
    {
      "execution_count": 16,
      "metadata": {},
      "cell_type": "code",
      "outputs": [],
      "source": "!conda install seaborn -q -y"
    },
    {
      "execution_count": 17,
      "metadata": {},
      "cell_type": "code",
      "outputs": [
        {
          "execution_count": 17,
          "metadata": {},
          "output_type": "execute_result",
          "data": {
            "text/plain": "'0.5.1'"
          }
        }
      ],
      "source": "import seaborn as sns\nsns.__version__"
    },
    {
      "execution_count": 18,
      "metadata": {},
      "cell_type": "code",
      "outputs": [],
      "source": "data.trip_distance.hist(bins=np.linspace(0., 10., 100))"
    }
  ],
  "metadata": {},
  "nbformat_minor": 0,
  "nbformat": 4
}