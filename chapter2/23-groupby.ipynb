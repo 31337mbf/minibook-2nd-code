{
  "metadata": {},
  "cells": [
    {
      "metadata": {},
      "source": "## Complex operations",
      "cell_type": "markdown"
    },
    {
      "metadata": {},
      "cell_type": "code",
      "source": "import numpy as np\nimport pandas as pd\nimport matplotlib.pyplot as plt\n%matplotlib inline\ndata = pd.read_csv('data/nyc_data.csv', parse_dates=['pickup_datetime',\n                                                     'dropoff_datetime'])\nfare = pd.read_csv('data/nyc_fare.csv', parse_dates=['pickup_datetime'])",
      "outputs": [],
      "execution_count": 1
    },
    {
      "metadata": {},
      "source": "### Group-by",
      "cell_type": "markdown"
    },
    {
      "metadata": {},
      "cell_type": "code",
      "source": "weekly = data.groupby(data.pickup_datetime.dt.weekofyear)",
      "outputs": [],
      "execution_count": 2
    },
    {
      "metadata": {},
      "cell_type": "code",
      "source": "len(weekly)",
      "outputs": [
        {
          "metadata": {},
          "execution_count": 3,
          "data": {
            "text/plain": "52"
          },
          "output_type": "execute_result"
        }
      ],
      "execution_count": 3
    },
    {
      "metadata": {},
      "cell_type": "code",
      "source": "y = weekly.size()\ny.head(3)",
      "outputs": [
        {
          "metadata": {},
          "execution_count": 4,
          "data": {
            "text/plain": "1    17042\n2    15941\n3    17017\ndtype: int64"
          },
          "output_type": "execute_result"
        }
      ],
      "execution_count": 4
    },
    {
      "metadata": {},
      "cell_type": "code",
      "source": "x = weekly.pickup_datetime.first()\nx.head(3)",
      "outputs": [
        {
          "metadata": {},
          "execution_count": 5,
          "data": {
            "text/plain": "1   2013-01-01 00:00:00\n2   2013-01-07 00:03:00\n3   2013-01-14 00:00:51\nName: pickup_datetime, dtype: datetime64[ns]"
          },
          "output_type": "execute_result"
        }
      ],
      "execution_count": 5
    },
    {
      "metadata": {},
      "cell_type": "code",
      "source": "pd.Series(y.values, index=x).plot()\nplt.ylim(0)  # Set the lower y value to 0.\nplt.xlabel('Week')  # Label of the x axis.\nplt.ylabel('Taxi rides')  # Label of the y axis.",
      "outputs": [],
      "execution_count": 6
    },
    {
      "metadata": {},
      "source": "### Joins",
      "cell_type": "markdown"
    },
    {
      "metadata": {},
      "cell_type": "code",
      "source": "tip = fare[['medallion', 'tip_amount']] \\",
      "outputs": [
        {
          "metadata": {},
          "execution_count": 7,
          "data": {
            "text/plain": "          .loc[fare.tip_amount>0].groupby('medallion').mean()\n>>> print(len(tip))\n>>> tip.head(3)\n13407\n                                  tip_amount\nmedallion\n00005007A9F30E289E760362F69E4EAD    1.815854\n000318C2E3E6381580E5C99910A60668    2.857222\n000351EDC735C079246435340A54C7C1    2.099111"
          },
          "output_type": "execute_result"
        }
      ],
      "execution_count": 7
    },
    {
      "metadata": {},
      "cell_type": "code",
      "source": "tip.hist(bins=np.linspace(0., 6., 100))\nplt.xlabel('Average tip')\nplt.ylabel('Number of taxis')",
      "outputs": [],
      "execution_count": 8
    },
    {
      "metadata": {},
      "cell_type": "code",
      "source": "data_merged = pd.merge(data, tip, how='left', left_on='medallion', right_index=True)\ndata_merged.head(3)",
      "outputs": [],
      "execution_count": 9
    }
  ],
  "nbformat": 4,
  "nbformat_minor": 0
}