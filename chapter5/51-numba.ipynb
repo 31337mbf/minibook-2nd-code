{
  "metadata": {},
  "cells": [
    {
      "metadata": {},
      "source": "## Accelerating Python code with Numba",
      "cell_type": "markdown"
    },
    {
      "metadata": {},
      "cell_type": "code",
      "source": "import math\nimport random\nimport numpy as np\nfrom numba import jit, vectorize, float64\nimport matplotlib.pyplot as plt\nimport seaborn\n%matplotlib inline",
      "outputs": [],
      "execution_count": 1
    },
    {
      "metadata": {},
      "source": "### Random walk",
      "cell_type": "markdown"
    },
    {
      "metadata": {},
      "cell_type": "code",
      "source": "def step():\n    return 1. if random.random() > .5 else -1.",
      "outputs": [],
      "execution_count": 2
    },
    {
      "metadata": {},
      "cell_type": "code",
      "source": "def walk(x):\n    n = len(x)\n    dx = 1. / n\n    for i in range(n - 1):\n        x_new = x[i] + dx * step()\n        if x_new > 5e-3:\n            x[i + 1] = 0.\n        else:\n            x[i + 1] = x_new",
      "outputs": [],
      "execution_count": 3
    },
    {
      "metadata": {},
      "cell_type": "code",
      "source": "n = 100000\nx = np.zeros(n)",
      "outputs": [],
      "execution_count": 4
    },
    {
      "metadata": {},
      "cell_type": "code",
      "source": "walk(x)",
      "outputs": [],
      "execution_count": 5
    },
    {
      "metadata": {},
      "cell_type": "code",
      "source": "plt.plot(x)",
      "outputs": [],
      "execution_count": 6
    },
    {
      "metadata": {},
      "cell_type": "code",
      "source": "%%timeit x = np.zeros(n)\nwalk(x)",
      "outputs": [
        {
          "metadata": {},
          "execution_count": 7,
          "data": {
            "text/plain": "10 loops, best of 3: 47.9 ms per loop"
          },
          "output_type": "execute_result"
        }
      ],
      "execution_count": 7
    },
    {
      "metadata": {},
      "cell_type": "code",
      "source": "@jit(nopython=True)\ndef step_numba():\n    return 1. if random.random() > .5 else -1.",
      "outputs": [],
      "execution_count": 8
    },
    {
      "metadata": {},
      "cell_type": "code",
      "source": "@jit(nopython=True)\ndef walk_numba(x):\n    n = len(x)\n    dx = 1. / n\n    for i in range(n - 1):\n        x_new = x[i] + dx * step_numba()\n        if x_new > 5e-3:\n            x[i + 1] = 0.\n        else:\n            x[i + 1] = x_new",
      "outputs": [],
      "execution_count": 9
    },
    {
      "metadata": {},
      "cell_type": "code",
      "source": "%%timeit x = np.zeros(n)\nwalk_numba(x)",
      "outputs": [
        {
          "metadata": {},
          "execution_count": 10,
          "data": {
            "text/plain": "The slowest run took 33.25 times longer than the fastest. This could mean that an intermediate result is being cached\n1000 loops, best of 3: 1.59 ms per loop"
          },
          "output_type": "execute_result"
        }
      ],
      "execution_count": 10
    },
    {
      "metadata": {},
      "source": "### Universal functions",
      "cell_type": "markdown"
    },
    {
      "metadata": {},
      "cell_type": "code",
      "source": "x = np.random.rand(10000000)\n%timeit np.cos(2*x**2 + 3*x + 4*np.exp(x**3))",
      "outputs": [
        {
          "metadata": {},
          "execution_count": 11,
          "data": {
            "text/plain": "1 loops, best of 3: 689 ms per loop"
          },
          "output_type": "execute_result"
        }
      ],
      "execution_count": 11
    },
    {
      "metadata": {},
      "cell_type": "code",
      "source": "@vectorize\ndef kernel(x):\n    return np.cos(2*x**2 + 3*x + 4*np.exp(x**3))",
      "outputs": [],
      "execution_count": 12
    },
    {
      "metadata": {},
      "cell_type": "code",
      "source": "kernel(1.)",
      "outputs": [
        {
          "metadata": {},
          "execution_count": 13,
          "data": {
            "text/plain": "-0.98639139715432589"
          },
          "output_type": "execute_result"
        }
      ],
      "execution_count": 13
    },
    {
      "metadata": {},
      "cell_type": "code",
      "source": "%timeit kernel(x)",
      "outputs": [
        {
          "metadata": {},
          "execution_count": 14,
          "data": {
            "text/plain": "1 loops, best of 3: 324 ms per loop"
          },
          "output_type": "execute_result"
        }
      ],
      "execution_count": 14
    },
    {
      "metadata": {},
      "cell_type": "code",
      "source": "import numexpr\n%timeit numexpr.evaluate('cos(2*x**2 + 3*x + 4*exp(x**3))')",
      "outputs": [
        {
          "metadata": {},
          "execution_count": 15,
          "data": {
            "text/plain": "10 loops, best of 3: 122 ms per loop"
          },
          "output_type": "execute_result"
        }
      ],
      "execution_count": 15
    },
    {
      "metadata": {},
      "cell_type": "code",
      "source": "numexpr.detect_number_of_cores()",
      "outputs": [
        {
          "metadata": {},
          "execution_count": 16,
          "data": {
            "text/plain": "4"
          },
          "output_type": "execute_result"
        }
      ],
      "execution_count": 16
    }
  ],
  "nbformat": 4,
  "nbformat_minor": 0
}