{
  "cells": [
    {
      "metadata": {},
      "source": "## Accelerating Python code with Numba",
      "cell_type": "markdown"
    },
    {
      "execution_count": 1,
      "metadata": {},
      "cell_type": "code",
      "outputs": [],
      "source": "import math\nimport random\nimport numpy as np\nfrom numba import jit, float64\nimport matplotlib.pyplot as plt\nimport seaborn\n%matplotlib inline"
    },
    {
      "execution_count": 2,
      "metadata": {},
      "cell_type": "code",
      "outputs": [],
      "source": "def step():\n    return 1. if random.random() > .5 else -1."
    },
    {
      "execution_count": 3,
      "metadata": {},
      "cell_type": "code",
      "outputs": [],
      "source": "def brownian(x):\n    n = len(x)\n    dx = 1. / n\n    for i in range(n - 1):\n        x_new = x[i] + dx * step()\n        if x_new > 5e-3:\n            x[i + 1] = 0.\n        else:\n            x[i + 1] = x_new"
    },
    {
      "execution_count": 4,
      "metadata": {},
      "cell_type": "code",
      "outputs": [],
      "source": "n = 100000\nx = np.zeros(n)"
    },
    {
      "execution_count": 5,
      "metadata": {},
      "cell_type": "code",
      "outputs": [],
      "source": "brownian(x)"
    },
    {
      "execution_count": 6,
      "metadata": {},
      "cell_type": "code",
      "outputs": [],
      "source": "plt.plot(x)"
    },
    {
      "execution_count": 7,
      "metadata": {},
      "cell_type": "code",
      "outputs": [
        {
          "execution_count": 7,
          "metadata": {},
          "output_type": "execute_result",
          "data": {
            "text/plain": "10 loops, best of 3: 47.9 ms per loop"
          }
        }
      ],
      "source": "%%timeit x = np.zeros(n)\nbrownian(x)"
    },
    {
      "execution_count": 8,
      "metadata": {},
      "cell_type": "code",
      "outputs": [],
      "source": "@jit(nopython=True)\ndef step_numba():\n    return 1. if random.random() > .5 else -1."
    },
    {
      "execution_count": 9,
      "metadata": {},
      "cell_type": "code",
      "outputs": [],
      "source": "@jit(nopython=True)\ndef brownian_numba(x):\n    n = len(x)\n    dx = 1. / n\n    for i in range(n - 1):\n        x_new = x[i] + dx * step_numba()\n        if x_new > 5e-3:\n            x[i + 1] = 0.\n        else:\n            x[i + 1] = x_new"
    },
    {
      "execution_count": 10,
      "metadata": {},
      "cell_type": "code",
      "outputs": [
        {
          "execution_count": 10,
          "metadata": {},
          "output_type": "execute_result",
          "data": {
            "text/plain": "The slowest run took 33.25 times longer than the fastest. This could mean that an intermediate result is being cached\n1000 loops, best of 3: 1.59 ms per loop"
          }
        }
      ],
      "source": "%%timeit x = np.zeros(n)\nbrownian_numba(x)"
    }
  ],
  "metadata": {},
  "nbformat_minor": 0,
  "nbformat": 4
}