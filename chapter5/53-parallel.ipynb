{
  "metadata": {},
  "cells": [
    {
      "metadata": {},
      "source": "## Distributing tasks on several cores with IPython.parallel",
      "cell_type": "markdown"
    },
    {
      "metadata": {},
      "cell_type": "code",
      "source": "import numpy as np\nfrom IPython.parallel import Client",
      "outputs": [],
      "execution_count": 1
    },
    {
      "metadata": {},
      "cell_type": "code",
      "source": "rc = Client()",
      "outputs": [],
      "execution_count": 2
    },
    {
      "metadata": {},
      "source": "### Direct interface",
      "cell_type": "markdown"
    },
    {
      "metadata": {},
      "cell_type": "code",
      "source": "rc.ids",
      "outputs": [
        {
          "metadata": {},
          "execution_count": 3,
          "data": {
            "text/plain": "[0, 1, 2, 3]"
          },
          "output_type": "execute_result"
        }
      ],
      "execution_count": 3
    },
    {
      "metadata": {},
      "cell_type": "code",
      "source": "%px import os, time",
      "outputs": [],
      "execution_count": 4
    },
    {
      "metadata": {},
      "cell_type": "code",
      "source": "%px print(os.getpid())",
      "outputs": [
        {
          "metadata": {},
          "execution_count": 5,
          "data": {
            "text/plain": "[stdout:0] 11173\n[stdout:1] 11174\n[stdout:2] 11175\n[stdout:3] 11176"
          },
          "output_type": "execute_result"
        }
      ],
      "execution_count": 5
    },
    {
      "metadata": {},
      "cell_type": "code",
      "source": "%%px --targets :-1\nprint(os.getpid())",
      "outputs": [
        {
          "metadata": {},
          "execution_count": 6,
          "data": {
            "text/plain": "[stdout:0] 11173\n[stdout:1] 11174\n[stdout:2] 11175"
          },
          "output_type": "execute_result"
        }
      ],
      "execution_count": 6
    },
    {
      "metadata": {},
      "cell_type": "code",
      "source": "view = rc[:-1]\nview",
      "outputs": [
        {
          "metadata": {},
          "execution_count": 7,
          "data": {
            "text/plain": "<DirectView [0, 1, 2]>"
          },
          "output_type": "execute_result"
        }
      ],
      "execution_count": 7
    },
    {
      "metadata": {},
      "source": "### Load-balanced interface",
      "cell_type": "markdown"
    },
    {
      "metadata": {},
      "cell_type": "code",
      "source": "v = rc.load_balanced_view()",
      "outputs": [],
      "execution_count": 8
    },
    {
      "metadata": {},
      "cell_type": "code",
      "source": "def sample(n):\n    import numpy as np\n    # Random coordinates.\n    x, y = np.random.rand(2, n)\n    # Square distances to the origin.\n    r_square = x ** 2 + y ** 2\n    # Number of points in the quarter disc.\n    return (r_square <= 1).sum()",
      "outputs": [],
      "execution_count": 9
    },
    {
      "metadata": {},
      "cell_type": "code",
      "source": "def pi(n_in, n):\n    return 4. * float(n_in) / n",
      "outputs": [],
      "execution_count": 10
    },
    {
      "metadata": {},
      "cell_type": "code",
      "source": "n = 100000000",
      "outputs": [],
      "execution_count": 11
    },
    {
      "metadata": {},
      "cell_type": "code",
      "source": "pi(sample(n), n)",
      "outputs": [
        {
          "metadata": {},
          "execution_count": 12,
          "data": {
            "text/plain": "3.14174968"
          },
          "output_type": "execute_result"
        }
      ],
      "execution_count": 12
    },
    {
      "metadata": {},
      "cell_type": "code",
      "source": "%timeit pi(sample(n), n)",
      "outputs": [
        {
          "metadata": {},
          "execution_count": 13,
          "data": {
            "text/plain": "1 loops, best of 3: 2.65 s per loop"
          },
          "output_type": "execute_result"
        }
      ],
      "execution_count": 13
    },
    {
      "metadata": {},
      "cell_type": "code",
      "source": "args = [n // 100] * 100",
      "outputs": [],
      "execution_count": 14
    },
    {
      "metadata": {},
      "cell_type": "code",
      "source": "ar = v.map(sample, args)",
      "outputs": [],
      "execution_count": 15
    },
    {
      "metadata": {},
      "cell_type": "code",
      "source": "ar.ready(), ar.progress",
      "outputs": [
        {
          "metadata": {},
          "execution_count": 16,
          "data": {
            "text/plain": "(False, 12)"
          },
          "output_type": "execute_result"
        }
      ],
      "execution_count": 16
    },
    {
      "metadata": {},
      "cell_type": "code",
      "source": "ar.elapsed, ar.serial_time",
      "outputs": [
        {
          "metadata": {},
          "execution_count": 17,
          "data": {
            "text/plain": "(1.428284, 4.042367000000002)"
          },
          "output_type": "execute_result"
        }
      ],
      "execution_count": 17
    },
    {
      "metadata": {},
      "cell_type": "code",
      "source": "pi(np.sum(ar.result), n)",
      "outputs": [
        {
          "metadata": {},
          "execution_count": 18,
          "data": {
            "text/plain": "3.141666"
          },
          "output_type": "execute_result"
        }
      ],
      "execution_count": 18
    }
  ],
  "nbformat": 4,
  "nbformat_minor": 0
}