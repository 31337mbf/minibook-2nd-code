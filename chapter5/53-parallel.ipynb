{
  "cells": [
    {
      "metadata": {},
      "source": "## Distributing tasks on several cores with IPython.parallel",
      "cell_type": "markdown"
    },
    {
      "execution_count": 1,
      "metadata": {},
      "cell_type": "code",
      "outputs": [],
      "source": "import numpy as np\nfrom IPython.parallel import Client"
    },
    {
      "execution_count": 2,
      "metadata": {},
      "cell_type": "code",
      "outputs": [],
      "source": "rc = Client()"
    },
    {
      "metadata": {},
      "source": "### Direct interface",
      "cell_type": "markdown"
    },
    {
      "execution_count": 3,
      "metadata": {},
      "cell_type": "code",
      "outputs": [
        {
          "execution_count": 3,
          "metadata": {},
          "output_type": "execute_result",
          "data": {
            "text/plain": "[0, 1, 2, 3]"
          }
        }
      ],
      "source": "rc.ids"
    },
    {
      "execution_count": 4,
      "metadata": {},
      "cell_type": "code",
      "outputs": [],
      "source": "%px import os, time"
    },
    {
      "execution_count": 5,
      "metadata": {},
      "cell_type": "code",
      "outputs": [
        {
          "execution_count": 5,
          "metadata": {},
          "output_type": "execute_result",
          "data": {
            "text/plain": "[stdout:0] 11173\n[stdout:1] 11174\n[stdout:2] 11175\n[stdout:3] 11176"
          }
        }
      ],
      "source": "%px print(os.getpid())"
    },
    {
      "execution_count": 6,
      "metadata": {},
      "cell_type": "code",
      "outputs": [
        {
          "execution_count": 6,
          "metadata": {},
          "output_type": "execute_result",
          "data": {
            "text/plain": "[stdout:0] 11173\n[stdout:1] 11174\n[stdout:2] 11175"
          }
        }
      ],
      "source": "%%px --targets :-1\nprint(os.getpid())"
    },
    {
      "execution_count": 7,
      "metadata": {},
      "cell_type": "code",
      "outputs": [
        {
          "execution_count": 7,
          "metadata": {},
          "output_type": "execute_result",
          "data": {
            "text/plain": "<DirectView [0, 1, 2]>"
          }
        }
      ],
      "source": "view = rc[:-1]\nview"
    },
    {
      "metadata": {},
      "source": "### Load-balanced interface",
      "cell_type": "markdown"
    },
    {
      "execution_count": 8,
      "metadata": {},
      "cell_type": "code",
      "outputs": [],
      "source": "v = rc.load_balanced_view()"
    },
    {
      "execution_count": 9,
      "metadata": {},
      "cell_type": "code",
      "outputs": [],
      "source": "def sample(n):\n    import numpy as np\n    # Random coordinates.\n    x, y = np.random.rand(2, n)\n    # Square distances to the origin.\n    r_square = x ** 2 + y ** 2\n    # Number of points in the quarter disc.\n    return (r_square <= 1).sum()"
    },
    {
      "execution_count": 10,
      "metadata": {},
      "cell_type": "code",
      "outputs": [],
      "source": "def pi(n_in, n):\n    return 4. * float(n_in) / n"
    },
    {
      "execution_count": 11,
      "metadata": {},
      "cell_type": "code",
      "outputs": [],
      "source": "n = 100000000"
    },
    {
      "execution_count": 12,
      "metadata": {},
      "cell_type": "code",
      "outputs": [
        {
          "execution_count": 12,
          "metadata": {},
          "output_type": "execute_result",
          "data": {
            "text/plain": "3.14174968"
          }
        }
      ],
      "source": "pi(sample(n), n)"
    },
    {
      "execution_count": 13,
      "metadata": {},
      "cell_type": "code",
      "outputs": [
        {
          "execution_count": 13,
          "metadata": {},
          "output_type": "execute_result",
          "data": {
            "text/plain": "1 loops, best of 3: 2.65 s per loop"
          }
        }
      ],
      "source": "%timeit pi(sample(n), n)"
    },
    {
      "execution_count": 14,
      "metadata": {},
      "cell_type": "code",
      "outputs": [],
      "source": "args = [n // 100] * 100"
    },
    {
      "execution_count": 15,
      "metadata": {},
      "cell_type": "code",
      "outputs": [],
      "source": "ar = v.map(sample, args)"
    },
    {
      "execution_count": 16,
      "metadata": {},
      "cell_type": "code",
      "outputs": [
        {
          "execution_count": 16,
          "metadata": {},
          "output_type": "execute_result",
          "data": {
            "text/plain": "(False, 12)"
          }
        }
      ],
      "source": "ar.ready(), ar.progress"
    },
    {
      "execution_count": 17,
      "metadata": {},
      "cell_type": "code",
      "outputs": [
        {
          "execution_count": 17,
          "metadata": {},
          "output_type": "execute_result",
          "data": {
            "text/plain": "(1.428284, 4.042367000000002)"
          }
        }
      ],
      "source": "ar.elapsed, ar.serial_time"
    },
    {
      "execution_count": 18,
      "metadata": {},
      "cell_type": "code",
      "outputs": [
        {
          "execution_count": 18,
          "metadata": {},
          "output_type": "execute_result",
          "data": {
            "text/plain": "3.141666"
          }
        }
      ],
      "source": "pi(np.sum(ar.result), n)"
    }
  ],
  "metadata": {},
  "nbformat_minor": 0,
  "nbformat": 4
}