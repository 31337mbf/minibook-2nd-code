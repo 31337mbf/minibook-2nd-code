{
  "metadata": {},
  "cells": [
    {
      "metadata": {},
      "source": "## Further high-performance computing techniques",
      "cell_type": "markdown"
    },
    {
      "metadata": {},
      "source": "### MPI",
      "cell_type": "markdown"
    },
    {
      "metadata": {},
      "source": "### C/C++ with Python",
      "cell_type": "markdown"
    },
    {
      "metadata": {},
      "source": "### GPU computing",
      "cell_type": "markdown"
    },
    {
      "metadata": {},
      "source": "### PyPy",
      "cell_type": "markdown"
    },
    {
      "metadata": {},
      "source": "### Julia",
      "cell_type": "markdown"
    }
  ],
  "nbformat": 4,
  "nbformat_minor": 0
}