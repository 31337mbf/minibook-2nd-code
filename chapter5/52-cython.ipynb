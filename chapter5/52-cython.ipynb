{
  "metadata": {},
  "cells": [
    {
      "metadata": {},
      "source": "## Writing C in Python with Cython",
      "cell_type": "markdown"
    },
    {
      "metadata": {},
      "source": "### Installing Cython and a C compiler for Python",
      "cell_type": "markdown"
    },
    {
      "metadata": {},
      "source": "### Implementing the Eratosthenes Sieve in Python and Cython",
      "cell_type": "markdown"
    },
    {
      "metadata": {},
      "cell_type": "code",
      "source": "def primes_python(n):\n    primes = [False, False] + [True] * (n - 2)\n    i = 2\n    while i < n:\n        # We do not deal with composite numbers.\n        if not primes[i]:\n            i += 1\n            continue\n        k = i * i\n        # We mark multiples of i as composite numbers.\n        while k < n:\n            primes[k] = False\n            k += i\n        i += 1\n    # We return all numbers marked with True.\n    return [i for i in range(2, n) if primes[i]]",
      "outputs": [],
      "execution_count": 1
    },
    {
      "metadata": {},
      "cell_type": "code",
      "source": "primes_python(20)",
      "outputs": [
        {
          "metadata": {},
          "execution_count": 2,
          "data": {
            "text/plain": "[2, 3, 5, 7, 11, 13, 17, 19]"
          },
          "output_type": "execute_result"
        }
      ],
      "execution_count": 2
    },
    {
      "metadata": {},
      "cell_type": "code",
      "source": "n = 10000",
      "outputs": [],
      "execution_count": 3
    },
    {
      "metadata": {},
      "cell_type": "code",
      "source": "%timeit primes_python(n)",
      "outputs": [
        {
          "metadata": {},
          "execution_count": 4,
          "data": {
            "text/plain": "100 loops, best of 3: 2.84 ms per loop"
          },
          "output_type": "execute_result"
        }
      ],
      "execution_count": 4
    },
    {
      "metadata": {},
      "cell_type": "code",
      "source": "%load_ext Cython",
      "outputs": [],
      "execution_count": 5
    },
    {
      "metadata": {},
      "cell_type": "code",
      "source": "%%cython\ndef primes_cython_1(n):\n    primes = [False, False] + [True] * (n - 2)\n    i = 2\n    while i < n:\n        # We do not deal with composite numbers.\n        if not primes[i]:\n            i += 1\n            continue\n        k = i * i\n        # We mark multiples of i as composite numbers.\n        while k < n:\n            primes[k] = False\n            k += i\n        i += 1\n    # We return all numbers marked with True.\n    return [i for i in range(2, n) if primes[i]]",
      "outputs": [],
      "execution_count": 6
    },
    {
      "metadata": {},
      "cell_type": "code",
      "source": "primes_cython_1(20)",
      "outputs": [
        {
          "metadata": {},
          "execution_count": 7,
          "data": {
            "text/plain": "[2, 3, 5, 7, 11, 13, 17, 19]"
          },
          "output_type": "execute_result"
        }
      ],
      "execution_count": 7
    },
    {
      "metadata": {},
      "cell_type": "code",
      "source": "%timeit primes_cython_1(n)",
      "outputs": [
        {
          "metadata": {},
          "execution_count": 8,
          "data": {
            "text/plain": "1000 loops, best of 3: 1.75 ms per loop"
          },
          "output_type": "execute_result"
        }
      ],
      "execution_count": 8
    },
    {
      "metadata": {},
      "cell_type": "code",
      "source": "%%cython -a\ndef primes_cython_2(int n):\n    # Note the type declarations below:\n    cdef list primes = [False, False] + [True] * (n - 2)\n    cdef int i = 2\n    cdef int k = 0\n    # The rest of the function is unchanged.\n    while i < n:\n        # We do not deal with composite numbers.\n        if not primes[i]:\n            i += 1\n            continue\n        k = i * i\n        # We mark multiples of i as composite numbers.\n        while k < n:\n            primes[k] = False\n            k += i\n        i += 1\n    # We return all numbers marked with True.\n    return [i for i in range(2, n) if primes[i]]",
      "outputs": [],
      "execution_count": 9
    },
    {
      "metadata": {},
      "cell_type": "code",
      "source": "%timeit primes_cython_2(n)",
      "outputs": [
        {
          "metadata": {},
          "execution_count": 10,
          "data": {
            "text/plain": "1000 loops, best of 3: 217 \u00b5s per loop"
          },
          "output_type": "execute_result"
        }
      ],
      "execution_count": 10
    }
  ],
  "nbformat": 4,
  "nbformat_minor": 0
}