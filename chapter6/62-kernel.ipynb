{
  "metadata": {},
  "cells": [
    {
      "metadata": {},
      "source": "## Writing a new Jupyter kernel",
      "cell_type": "markdown"
    },
    {
      "metadata": {},
      "cell_type": "code",
      "source": "%mkdir cpp",
      "outputs": [],
      "execution_count": 1
    },
    {
      "metadata": {},
      "cell_type": "code",
      "source": "%%writefile cpp/cpp_kernel.py\n\nimport os\nimport os.path as op\nimport tempfile\n\n# We import the `getoutput()` function provided by IPython.\n# It allows us to do system calls from Python.\nfrom IPython.utils.process import getoutput\n\ndef exec_cpp(code):\n    \"\"\"Compile, execute C++ code, and return the standard output.\"\"\"\n\n    # We create a temporary directory. This directory will\n    # be deleted at the end of the 'with' context.\n    # All created files will be in this directory.\n    with tempfile.TemporaryDirectory() as tmpdir:\n\n        # We define the source and executable filenames.\n        source_path = op.join(tmpdir, 'temp.cpp')\n        program_path = op.join(tmpdir, 'temp')\n\n        # We write the code to the C++ file.\n        with open(source_path, 'w') as f:\n            f.write(code)\n\n        # We compile the C++ code into an executable.\n        os.system(\"g++ {0:s} -o {1:s}\".format(\n            source_path, program_path))\n\n        # We execute the program and return the output.\n        return getoutput(program_path)",
      "outputs": [
        {
          "metadata": {},
          "execution_count": 2,
          "data": {
            "text/plain": "Writing cpp/cpp_kernel.py"
          },
          "output_type": "execute_result"
        }
      ],
      "execution_count": 2
    },
    {
      "metadata": {},
      "cell_type": "code",
      "source": "%%writefile -a cpp/cpp_kernel.py\n\n\"\"\"C++ wrapper kernel.\"\"\"\nfrom IPython.kernel.zmq.kernelbase import Kernel\n\nclass CppKernel(Kernel):\n\n    # Kernel information.\n    implementation = 'C++'\n    implementation_version = '1.0'\n    language = 'c++'\n    language_version = '1.0'\n    language_info = {'name': 'c++',\n                     'mimetype': 'text/plain'}\n    banner = \"C++ kernel\"\n\n    def do_execute(self, code, silent,\n                   store_history=True,\n                   user_expressions=None,\n                   allow_stdin=False):\n        \"\"\"This function is called when a code cell is executed.\"\"\"\n\n        if not silent:\n            # We run the C++ code and get the output.\n            output = exec_cpp(code)\n\n            # We send back the result to the frontend.\n            stream_content = {'name': 'stdout', 'text': output}\n            self.send_response(self.iopub_socket, 'stream', stream_content)\n\n        return {'status': 'ok',\n                # The base class increments the execution count\n                'execution_count': self.execution_count,\n                'payload': [],\n                'user_expressions': {},\n               }\n\nif __name__ == '__main__':\n    from IPython.kernel.zmq.kernelapp import IPKernelApp\n    IPKernelApp.launch_instance(kernel_class=CppKernel)",
      "outputs": [
        {
          "metadata": {},
          "execution_count": 3,
          "data": {
            "text/plain": "Appending to cpp/cpp_kernel.py"
          },
          "output_type": "execute_result"
        }
      ],
      "execution_count": 3
    },
    {
      "metadata": {},
      "cell_type": "code",
      "source": "%%writefile cpp/kernel.json\n{\n    \"argv\": [\"python\",\n             \"cpp/cpp_kernel.py\",\n             \"-f\",\n             \"{connection_file}\"\n            ],\n    \"display_name\": \"C++\"\n}",
      "outputs": [
        {
          "metadata": {},
          "execution_count": 4,
          "data": {
            "text/plain": "Writing cpp/kernel.json"
          },
          "output_type": "execute_result"
        }
      ],
      "execution_count": 4
    },
    {
      "metadata": {},
      "cell_type": "code",
      "source": "!jupyter kernelspec install --replace --user cpp",
      "outputs": [],
      "execution_count": 5
    },
    {
      "metadata": {},
      "cell_type": "code",
      "source": "!jupyter kernelspec list",
      "outputs": [
        {
          "metadata": {},
          "execution_count": 6,
          "data": {
            "text/plain": "Available kernels:\n  python3\n  cpp"
          },
          "output_type": "execute_result"
        }
      ],
      "execution_count": 6
    }
  ],
  "nbformat": 4,
  "nbformat_minor": 0
}