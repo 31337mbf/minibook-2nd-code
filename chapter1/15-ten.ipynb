{
  "metadata": {},
  "cells": [
    {
      "metadata": {},
      "source": "## Ten IPython essentials",
      "cell_type": "markdown"
    },
    {
      "metadata": {},
      "source": "### Using IPython as an extended shell",
      "cell_type": "markdown"
    },
    {
      "metadata": {},
      "cell_type": "code",
      "source": "%pwd",
      "outputs": [
        {
          "metadata": {},
          "execution_count": 1,
          "data": {
            "text/plain": "'/home/cyrille/minibook/chapter1'"
          },
          "output_type": "execute_result"
        }
      ],
      "execution_count": 1
    },
    {
      "metadata": {},
      "cell_type": "code",
      "source": "!wget https://github.com/ipython-books/minibook-2nd-data/blob/master/facebook.zip?raw=true -O facebook.zip",
      "outputs": [],
      "execution_count": 2
    },
    {
      "metadata": {},
      "cell_type": "code",
      "source": "%ls",
      "outputs": [
        {
          "metadata": {},
          "execution_count": 3,
          "data": {
            "text/plain": "facebook.zip  [...]"
          },
          "output_type": "execute_result"
        }
      ],
      "execution_count": 3
    },
    {
      "metadata": {},
      "cell_type": "code",
      "source": "!unzip facebook.zip",
      "outputs": [],
      "execution_count": 4
    },
    {
      "metadata": {},
      "cell_type": "code",
      "source": "%ls",
      "outputs": [
        {
          "metadata": {},
          "execution_count": 5,
          "data": {
            "text/plain": "facebook  facebook.zip  [...]"
          },
          "output_type": "execute_result"
        }
      ],
      "execution_count": 5
    },
    {
      "metadata": {},
      "cell_type": "code",
      "source": "%cd facebook",
      "outputs": [
        {
          "metadata": {},
          "execution_count": 6,
          "data": {
            "text/plain": "/home/cyrille/minibook/chapter1/facebook"
          },
          "output_type": "execute_result"
        }
      ],
      "execution_count": 6
    },
    {
      "metadata": {},
      "cell_type": "code",
      "source": "%bookmark fbdata",
      "outputs": [],
      "execution_count": 7
    },
    {
      "metadata": {},
      "cell_type": "code",
      "source": "%ls",
      "outputs": [
        {
          "metadata": {},
          "execution_count": 8,
          "data": {
            "text/plain": "0.circles    1684.circles  3437.circles  3980.circles  686.circles\n0.edges      1684.edges    3437.edges    3980.edges    686.edges\n107.circles  1912.circles  348.circles   414.circles   698.circles\n107.edges    1912.edges    348.edges     414.edges     698.edges"
          },
          "output_type": "execute_result"
        }
      ],
      "execution_count": 8
    },
    {
      "metadata": {},
      "cell_type": "code",
      "source": "files = !ls -1 -S | grep .edges",
      "outputs": [],
      "execution_count": 9
    },
    {
      "metadata": {},
      "cell_type": "code",
      "source": "files",
      "outputs": [
        {
          "metadata": {},
          "execution_count": 10,
          "data": {
            "text/plain": "['1912.edges',\n '107.edges',\n '1684.edges',\n '3437.edges',\n '348.edges',\n '0.edges',\n '414.edges',\n '686.edges',\n '698.edges',\n '3980.edges']"
          },
          "output_type": "execute_result"
        }
      ],
      "execution_count": 10
    },
    {
      "metadata": {},
      "cell_type": "code",
      "source": "import os\nfrom operator import itemgetter\n\n# Get the name and file size of all .edges files.\nfiles = [(file, os.stat(file).st_size)\n         for file in os.listdir('.')\n         if file.endswith('.edges')]\n\n# Sort the list with the second item (file size),\n# in decreasing order.\nfiles = sorted(files,\n               key=itemgetter(1),\n               reverse=True)\n\n# Only keep the first item (file name), in the same order.\nfiles = [file for (file, size) in files]",
      "outputs": [],
      "execution_count": 11
    },
    {
      "metadata": {},
      "cell_type": "code",
      "source": "!head -n5 {files[0]}",
      "outputs": [
        {
          "metadata": {},
          "execution_count": 12,
          "data": {
            "text/plain": "2290 2363\n2346 2025\n2140 2428\n2201 2506\n2425 2557"
          },
          "output_type": "execute_result"
        }
      ],
      "execution_count": 12
    },
    {
      "metadata": {},
      "source": "### Learning magic commands",
      "cell_type": "markdown"
    },
    {
      "metadata": {},
      "cell_type": "code",
      "source": "%lsmagic",
      "outputs": [
        {
          "metadata": {},
          "execution_count": 13,
          "data": {
            "text/plain": "Available line magics:\n%alias  %alias_magic  %autocall  %automagic  %autosave  %bookmark  %cat  %cd  %clear  %colors  %config  %connect_info  %cp  %debug  %dhist  %dirs  %doctest_mode  %ed  %edit  %env  %gui  %hist  %history  %install_default_config  %install_ext  %install_profiles  %killbgscripts  %ldir  %less  %lf  %lk  %ll  %load  %load_ext  %loadpy  %logoff  %logon  %logstart  %logstate  %logstop  %ls  %lsmagic  %lx  %macro  %magic  %man  %matplotlib  %mkdir  %more  %mv  %notebook  %page  %pastebin  %pdb  %pdef  %pdoc  %pfile  %pinfo  %pinfo2  %popd  %pprint  %precision  %profile  %prun  %psearch  %psource  %pushd  %pwd  %pycat  %pylab  %qtconsole  %quickref  %recall  %rehashx  %reload_ext  %rep  %rerun  %reset  %reset_selective  %rm  %rmdir  %run  %save  %sc  %set_env  %store  %sx  %system  %tb  %time  %timeit  %unalias  %unload_ext  %who  %who_ls  %whos  %xdel  %xmode\n\nAvailable cell magics:\n%%!  %%HTML  %%SVG  %%bash  %%capture  %%debug  %%file  %%html  %%javascript  %%latex  %%perl  %%prun  %%pypy  %%python  %%python2  %%python3  %%ruby  %%script  %%sh  %%svg  %%sx  %%system  %%time  %%timeit  %%writefile\n\nAutomagic is ON, % prefix IS NOT needed for line magics."
          },
          "output_type": "execute_result"
        }
      ],
      "execution_count": 13
    },
    {
      "metadata": {},
      "cell_type": "code",
      "source": "%history?",
      "outputs": [],
      "execution_count": 14
    },
    {
      "metadata": {},
      "cell_type": "code",
      "source": "%history -l 5",
      "outputs": [
        {
          "metadata": {},
          "execution_count": 15,
          "data": {
            "text/plain": "files = !ls -1 -S | grep .edges\nfiles\n!head -n5 {files[0]}\n%lsmagic\n%history?"
          },
          "output_type": "execute_result"
        }
      ],
      "execution_count": 15
    },
    {
      "metadata": {},
      "cell_type": "code",
      "source": "# how many minutes in a day?\n24 * 60",
      "outputs": [
        {
          "metadata": {},
          "execution_count": 16,
          "data": {
            "text/plain": "1440"
          },
          "output_type": "execute_result"
        }
      ],
      "execution_count": 16
    },
    {
      "metadata": {},
      "cell_type": "code",
      "source": "# and in a year?\n_ * 365",
      "outputs": [
        {
          "metadata": {},
          "execution_count": 17,
          "data": {
            "text/plain": "525600"
          },
          "output_type": "execute_result"
        }
      ],
      "execution_count": 17
    },
    {
      "metadata": {},
      "cell_type": "code",
      "source": "%%capture output\n%ls",
      "outputs": [],
      "execution_count": 18
    },
    {
      "metadata": {},
      "cell_type": "code",
      "source": "output.stdout",
      "outputs": [
        {
          "metadata": {},
          "execution_count": 19,
          "data": {
            "text/plain": "0.circles    1684.circles  3437.circles  3980.circles  686.circles\n0.edges      1684.edges    3437.edges    3980.edges    686.edges\n107.circles  1912.circles  348.circles   414.circles   698.circles\n107.edges    1912.edges    348.edges     414.edges     698.edges"
          },
          "output_type": "execute_result"
        }
      ],
      "execution_count": 19
    },
    {
      "metadata": {},
      "cell_type": "code",
      "source": "%%bash\ncd ..\ntouch _HEY\nls\nrm _HEY\ncd facebook",
      "outputs": [
        {
          "metadata": {},
          "execution_count": 20,
          "data": {
            "text/plain": "_HEY\nfacebook\nfacebook.zip\n[...]"
          },
          "output_type": "execute_result"
        }
      ],
      "execution_count": 20
    },
    {
      "metadata": {},
      "cell_type": "code",
      "source": "%%script ghci\nputStrLn \"Hello world!\"",
      "outputs": [
        {
          "metadata": {},
          "execution_count": 21,
          "data": {
            "text/plain": "GHCi, version 7.6.3: http://www.haskell.org/ghc/  :? for help\nLoading package ghc-prim ... linking ... done.\nLoading package integer-gmp ... linking ... done.\nLoading package base ... linking ... done.\nPrelude> Hello world!\nPrelude> Leaving GHCi."
          },
          "output_type": "execute_result"
        }
      ],
      "execution_count": 21
    },
    {
      "metadata": {},
      "cell_type": "code",
      "source": "%%writefile myfile.txt\nHello world!",
      "outputs": [
        {
          "metadata": {},
          "execution_count": 22,
          "data": {
            "text/plain": "Writing myfile.txt"
          },
          "output_type": "execute_result"
        }
      ],
      "execution_count": 22
    },
    {
      "metadata": {},
      "cell_type": "code",
      "source": "!more myfile.txt",
      "outputs": [
        {
          "metadata": {},
          "execution_count": 23,
          "data": {
            "text/plain": "Hello world!"
          },
          "output_type": "execute_result"
        }
      ],
      "execution_count": 23
    },
    {
      "metadata": {},
      "cell_type": "code",
      "source": "!rm myfile.txt",
      "outputs": [],
      "execution_count": 24
    },
    {
      "metadata": {},
      "source": "### Mastering tab completion",
      "cell_type": "markdown"
    },
    {
      "metadata": {},
      "cell_type": "code",
      "source": "%cd fbdata\n%ls",
      "outputs": [
        {
          "metadata": {},
          "execution_count": 25,
          "data": {
            "text/plain": "(bookmark:fbdata) -> /home/cyrille/minibook/chapter1/facebook\n/home/cyrille/minibook/chapter1/facebook\n0.circles    1684.circles  3437.circles  3980.circles  686.circles\n0.edges      1684.edges    3437.edges    3980.edges    686.edges\n107.circles  1912.circles  348.circles   414.circles   698.circles\n107.edges    1912.edges    348.edges     414.edges     698.edges"
          },
          "output_type": "execute_result"
        }
      ],
      "execution_count": 25
    },
    {
      "metadata": {},
      "source": "### Writing interactive documents in the Notebook with Markdown",
      "cell_type": "markdown"
    },
    {
      "metadata": {},
      "source": "### Creating interactive widgets in the Notebook",
      "cell_type": "markdown"
    },
    {
      "metadata": {},
      "cell_type": "code",
      "source": "from IPython.display import YouTubeVideo\nYouTubeVideo('j9YpkSX7NNM')",
      "outputs": [],
      "execution_count": 26
    },
    {
      "metadata": {},
      "cell_type": "code",
      "source": "from IPython.html.widgets import interact\n@interact(x=(0, 10))\ndef square(x):\n    print(\"The square of %d is %d.\" % (x, x**2))",
      "outputs": [
        {
          "metadata": {},
          "execution_count": 27,
          "data": {
            "text/plain": "The square of 7 is 49."
          },
          "output_type": "execute_result"
        }
      ],
      "execution_count": 27
    },
    {
      "metadata": {},
      "source": "### Running Python scripts from IPython",
      "cell_type": "markdown"
    },
    {
      "metadata": {},
      "cell_type": "code",
      "source": "%cd fbdata\n%cd ..",
      "outputs": [
        {
          "metadata": {},
          "execution_count": 28,
          "data": {
            "text/plain": "(bookmark:fbdata) -> /home/cyrille/minibook/chapter1/facebook\n/home/cyrille/minibook/chapter1/facebook"
          },
          "output_type": "execute_result"
        }
      ],
      "execution_count": 28
    },
    {
      "metadata": {},
      "cell_type": "code",
      "source": "%%writefile egos.py\nimport sys\nimport os\n# We retrieve the folder as the first positional argument\n# to the command-line call\nif len(sys.argv) > 1:\n    folder = sys.argv[1]\n# We list all files in the specified folder\nfiles = os.listdir(folder)\n# ids contains the list of idenfitiers\nidentifiers = [int(file.split('.')[0]) for file in files]\n# Finally, we remove duplicates with set(), and sort the list\n# with sorted().\nids = sorted(set(identifiers))",
      "outputs": [
        {
          "metadata": {},
          "execution_count": 29,
          "data": {
            "text/plain": "Overwriting egos.py"
          },
          "output_type": "execute_result"
        }
      ],
      "execution_count": 29
    },
    {
      "metadata": {},
      "cell_type": "code",
      "source": "%run egos.py facebook",
      "outputs": [],
      "execution_count": 30
    },
    {
      "metadata": {},
      "cell_type": "code",
      "source": "ids",
      "outputs": [
        {
          "metadata": {},
          "execution_count": 31,
          "data": {
            "text/plain": "[0, 107, 348, 414, 686, 698, 1684, 1912, 3437, 3980]"
          },
          "output_type": "execute_result"
        }
      ],
      "execution_count": 31
    },
    {
      "metadata": {},
      "cell_type": "code",
      "source": "folder = 'facebook'",
      "outputs": [],
      "execution_count": 32
    },
    {
      "metadata": {},
      "cell_type": "code",
      "source": "%run egos.py",
      "outputs": [],
      "execution_count": 33
    },
    {
      "metadata": {},
      "cell_type": "code",
      "source": "%run -i egos.py",
      "outputs": [],
      "execution_count": 34
    },
    {
      "metadata": {},
      "cell_type": "code",
      "source": "ids",
      "outputs": [
        {
          "metadata": {},
          "execution_count": 35,
          "data": {
            "text/plain": "[0, 107, 348, 414, 686, 698, 1684, 1912, 3437, 3980]"
          },
          "output_type": "execute_result"
        }
      ],
      "execution_count": 35
    },
    {
      "metadata": {},
      "source": "### Introspecting Python objects",
      "cell_type": "markdown"
    },
    {
      "metadata": {},
      "cell_type": "code",
      "source": "import networkx",
      "outputs": [],
      "execution_count": 36
    },
    {
      "metadata": {},
      "cell_type": "code",
      "source": "networkx.Graph?",
      "outputs": [],
      "execution_count": 37
    },
    {
      "metadata": {},
      "source": "### Debugging Python code",
      "cell_type": "markdown"
    },
    {
      "metadata": {},
      "source": "### Benchmarking Python code",
      "cell_type": "markdown"
    },
    {
      "metadata": {},
      "cell_type": "code",
      "source": "%cd fbdata",
      "outputs": [
        {
          "metadata": {},
          "execution_count": 38,
          "data": {
            "text/plain": "(bookmark:fbdata) -> /home/cyrille/minibook/chapter1/facebook\n/home/cyrille/minibook/chapter1/facebook"
          },
          "output_type": "execute_result"
        }
      ],
      "execution_count": 38
    },
    {
      "metadata": {},
      "cell_type": "code",
      "source": "import networkx",
      "outputs": [],
      "execution_count": 39
    },
    {
      "metadata": {},
      "cell_type": "code",
      "source": "graph = networkx.read_edgelist('107.edges')",
      "outputs": [],
      "execution_count": 40
    },
    {
      "metadata": {},
      "cell_type": "code",
      "source": "len(graph.nodes()), len(graph.edges())",
      "outputs": [
        {
          "metadata": {},
          "execution_count": 41,
          "data": {
            "text/plain": "(1034, 26749)"
          },
          "output_type": "execute_result"
        }
      ],
      "execution_count": 41
    },
    {
      "metadata": {},
      "cell_type": "code",
      "source": "networkx.is_connected(graph)",
      "outputs": [
        {
          "metadata": {},
          "execution_count": 42,
          "data": {
            "text/plain": "True"
          },
          "output_type": "execute_result"
        }
      ],
      "execution_count": 42
    },
    {
      "metadata": {},
      "cell_type": "code",
      "source": "%timeit networkx.is_connected(graph)",
      "outputs": [
        {
          "metadata": {},
          "execution_count": 43,
          "data": {
            "text/plain": "100 loops, best of 3: 5.92 ms per loop"
          },
          "output_type": "execute_result"
        }
      ],
      "execution_count": 43
    },
    {
      "metadata": {},
      "source": "### Profiling Python code",
      "cell_type": "markdown"
    },
    {
      "metadata": {},
      "cell_type": "code",
      "source": "import networkx",
      "outputs": [],
      "execution_count": 44
    },
    {
      "metadata": {},
      "cell_type": "code",
      "source": "def ncomponents(file):\n    graph = networkx.read_edgelist(file)\n    return networkx.number_connected_components(graph)",
      "outputs": [],
      "execution_count": 45
    },
    {
      "metadata": {},
      "cell_type": "code",
      "source": "import glob\ndef ncomponents_files():\n    return [(file, ncomponents(file))\n            for file in sorted(glob.glob('*.edges'))]",
      "outputs": [],
      "execution_count": 46
    },
    {
      "metadata": {},
      "cell_type": "code",
      "source": "for file, n in ncomponents_files():\n    print(file.ljust(12), n, 'component(s)')",
      "outputs": [
        {
          "metadata": {},
          "execution_count": 47,
          "data": {
            "text/plain": "0.edges      5 component(s)\n107.edges    1 component(s)\n1684.edges   4 component(s)\n1912.edges   2 component(s)\n3437.edges   2 component(s)\n348.edges    1 component(s)\n3980.edges   4 component(s)\n414.edges    2 component(s)\n686.edges    1 component(s)\n698.edges    3 component(s)"
          },
          "output_type": "execute_result"
        }
      ],
      "execution_count": 47
    },
    {
      "metadata": {},
      "cell_type": "code",
      "source": "%timeit ncomponents_files()",
      "outputs": [
        {
          "metadata": {},
          "execution_count": 48,
          "data": {
            "text/plain": "1 loops, best of 3: 634 ms per loop"
          },
          "output_type": "execute_result"
        }
      ],
      "execution_count": 48
    },
    {
      "metadata": {},
      "cell_type": "code",
      "source": "%prun -s cumtime ncomponents_files()",
      "outputs": [
        {
          "metadata": {},
          "execution_count": 49,
          "data": {
            "text/plain": "2391070 function calls in 1.038 seconds\n\nOrdered by: cumulative time\n\nncalls  tottime  percall  cumtime  percall filename:lineno(function)\n     1    0.000    0.000    1.038    1.038 {built-in method exec}\n     1    0.000    0.000    1.038    1.038 <string>:1(<module>)\n    10    0.000    0.000    0.995    0.100 <string>:1(read_edgelist)\n    10    0.000    0.000    0.995    0.100 decorators.py:155(_open_file)\n    10    0.376    0.038    0.995    0.099 edgelist.py:174(parse_edgelist)\n170174    0.279    0.000    0.350    0.000 graph.py:648(add_edge)\n170184    0.059    0.000    0.095    0.000 edgelist.py:366(<genexpr>)\n    10    0.000    0.000    0.021    0.002 connected.py:98(number_connected_components)\n    35    0.001    0.000    0.021    0.001 connected.py:22(connected_components)"
          },
          "output_type": "execute_result"
        }
      ],
      "execution_count": 49
    }
  ],
  "nbformat": 4,
  "nbformat_minor": 0
}