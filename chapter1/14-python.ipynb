{
  "metadata": {},
  "cells": [
    {
      "metadata": {},
      "source": "## A crash course on Python",
      "cell_type": "markdown"
    },
    {
      "metadata": {},
      "source": "### Hello world",
      "cell_type": "markdown"
    },
    {
      "metadata": {},
      "cell_type": "code",
      "source": "print(\"Hello world!\")",
      "outputs": [
        {
          "metadata": {},
          "execution_count": 1,
          "data": {
            "text/plain": "Hello world!"
          },
          "output_type": "execute_result"
        }
      ],
      "execution_count": 1
    },
    {
      "metadata": {},
      "source": "### Variables",
      "cell_type": "markdown"
    },
    {
      "metadata": {},
      "cell_type": "code",
      "source": "2 * 2",
      "outputs": [
        {
          "metadata": {},
          "execution_count": 2,
          "data": {
            "text/plain": "4"
          },
          "output_type": "execute_result"
        }
      ],
      "execution_count": 2
    },
    {
      "metadata": {},
      "cell_type": "code",
      "source": "a = 2",
      "outputs": [],
      "execution_count": 3
    },
    {
      "metadata": {},
      "cell_type": "code",
      "source": "a * 3",
      "outputs": [
        {
          "metadata": {},
          "execution_count": 4,
          "data": {
            "text/plain": "6"
          },
          "output_type": "execute_result"
        }
      ],
      "execution_count": 4
    },
    {
      "metadata": {},
      "cell_type": "code",
      "source": "a, b = 2, 6",
      "outputs": [],
      "execution_count": 5
    },
    {
      "metadata": {},
      "cell_type": "code",
      "source": "somefloat = 3.1415  # The \"dot\" character represents the radix point.\nsometext = 'pi is about'  # Use single or double quotes for strings.\nprint(sometext, somefloat)  # This displays several variables concatenated.",
      "outputs": [
        {
          "metadata": {},
          "execution_count": 6,
          "data": {
            "text/plain": "pi is about 3.1415"
          },
          "output_type": "execute_result"
        }
      ],
      "execution_count": 6
    },
    {
      "metadata": {},
      "source": "### Lists",
      "cell_type": "markdown"
    },
    {
      "metadata": {},
      "cell_type": "code",
      "source": "items = [1, 3, 0, 4, 1]",
      "outputs": [],
      "execution_count": 7
    },
    {
      "metadata": {},
      "cell_type": "code",
      "source": "len(items)",
      "outputs": [
        {
          "metadata": {},
          "execution_count": 8,
          "data": {
            "text/plain": "5"
          },
          "output_type": "execute_result"
        }
      ],
      "execution_count": 8
    },
    {
      "metadata": {},
      "cell_type": "code",
      "source": "sum(items)",
      "outputs": [
        {
          "metadata": {},
          "execution_count": 9,
          "data": {
            "text/plain": "9"
          },
          "output_type": "execute_result"
        }
      ],
      "execution_count": 9
    },
    {
      "metadata": {},
      "cell_type": "code",
      "source": "items[0]",
      "outputs": [
        {
          "metadata": {},
          "execution_count": 10,
          "data": {
            "text/plain": "1"
          },
          "output_type": "execute_result"
        }
      ],
      "execution_count": 10
    },
    {
      "metadata": {},
      "cell_type": "code",
      "source": "items[-1]",
      "outputs": [
        {
          "metadata": {},
          "execution_count": 11,
          "data": {
            "text/plain": "1"
          },
          "output_type": "execute_result"
        }
      ],
      "execution_count": 11
    },
    {
      "metadata": {},
      "cell_type": "code",
      "source": "items[1] = 9\nitems",
      "outputs": [
        {
          "metadata": {},
          "execution_count": 12,
          "data": {
            "text/plain": "[1, 9, 0, 4, 1]"
          },
          "output_type": "execute_result"
        }
      ],
      "execution_count": 12
    },
    {
      "metadata": {},
      "cell_type": "code",
      "source": "items[1:3]",
      "outputs": [
        {
          "metadata": {},
          "execution_count": 13,
          "data": {
            "text/plain": "[9, 0]"
          },
          "output_type": "execute_result"
        }
      ],
      "execution_count": 13
    },
    {
      "metadata": {},
      "cell_type": "code",
      "source": "my_tuple = (1, 2, 3)\nmy_tuple[1]",
      "outputs": [
        {
          "metadata": {},
          "execution_count": 14,
          "data": {
            "text/plain": "2"
          },
          "output_type": "execute_result"
        }
      ],
      "execution_count": 14
    },
    {
      "metadata": {},
      "cell_type": "code",
      "source": "my_dict = {'a': 1, 'b': 2, 'c': 3}\nprint('a:', my_dict['a'])",
      "outputs": [
        {
          "metadata": {},
          "execution_count": 15,
          "data": {
            "text/plain": "a: 1"
          },
          "output_type": "execute_result"
        }
      ],
      "execution_count": 15
    },
    {
      "metadata": {},
      "cell_type": "code",
      "source": "print(my_dict.keys())",
      "outputs": [
        {
          "metadata": {},
          "execution_count": 16,
          "data": {
            "text/plain": "dict_keys(['c', 'a', 'b'])"
          },
          "output_type": "execute_result"
        }
      ],
      "execution_count": 16
    },
    {
      "metadata": {},
      "cell_type": "code",
      "source": "my_set = set([1, 2, 3, 2, 1])\nmy_set",
      "outputs": [
        {
          "metadata": {},
          "execution_count": 17,
          "data": {
            "text/plain": "{1, 2, 3}"
          },
          "output_type": "execute_result"
        }
      ],
      "execution_count": 17
    },
    {
      "metadata": {},
      "source": "### Loops",
      "cell_type": "markdown"
    },
    {
      "metadata": {},
      "cell_type": "code",
      "source": "for item in items:\n    print(item)",
      "outputs": [
        {
          "metadata": {},
          "execution_count": 18,
          "data": {
            "text/plain": "1\n9\n0\n4\n1"
          },
          "output_type": "execute_result"
        }
      ],
      "execution_count": 18
    },
    {
      "metadata": {},
      "cell_type": "code",
      "source": "squares = [item * item for item in items]\nsquares",
      "outputs": [
        {
          "metadata": {},
          "execution_count": 19,
          "data": {
            "text/plain": "[1, 81, 0, 16, 1]"
          },
          "output_type": "execute_result"
        }
      ],
      "execution_count": 19
    },
    {
      "metadata": {},
      "source": "### Indentation",
      "cell_type": "markdown"
    },
    {
      "metadata": {},
      "source": "### Conditional branches",
      "cell_type": "markdown"
    },
    {
      "metadata": {},
      "cell_type": "code",
      "source": "for item in items:\n    if item % 2 == 0:\n        print(item)",
      "outputs": [
        {
          "metadata": {},
          "execution_count": 20,
          "data": {
            "text/plain": "0\n4"
          },
          "output_type": "execute_result"
        }
      ],
      "execution_count": 20
    },
    {
      "metadata": {},
      "cell_type": "code",
      "source": "even = [item for item in items if item % 2 == 0]\neven",
      "outputs": [
        {
          "metadata": {},
          "execution_count": 21,
          "data": {
            "text/plain": "[0, 4]"
          },
          "output_type": "execute_result"
        }
      ],
      "execution_count": 21
    },
    {
      "metadata": {},
      "source": "### Functions",
      "cell_type": "markdown"
    },
    {
      "metadata": {},
      "cell_type": "code",
      "source": "def is_even(number):\n    \"\"\"Return whether an integer is even or not.\"\"\"\n    return number % 2 == 0",
      "outputs": [],
      "execution_count": 22
    },
    {
      "metadata": {},
      "cell_type": "code",
      "source": "is_even(3)",
      "outputs": [
        {
          "metadata": {},
          "execution_count": 23,
          "data": {
            "text/plain": "False"
          },
          "output_type": "execute_result"
        }
      ],
      "execution_count": 23
    },
    {
      "metadata": {},
      "cell_type": "code",
      "source": "is_even(4)",
      "outputs": [
        {
          "metadata": {},
          "execution_count": 24,
          "data": {
            "text/plain": "True"
          },
          "output_type": "execute_result"
        }
      ],
      "execution_count": 24
    },
    {
      "metadata": {},
      "source": "### Positional and keyword arguments",
      "cell_type": "markdown"
    },
    {
      "metadata": {},
      "cell_type": "code",
      "source": "def remainder(number, divisor=2):\n    return number % divisor",
      "outputs": [],
      "execution_count": 25
    },
    {
      "metadata": {},
      "cell_type": "code",
      "source": "remainder(5)",
      "outputs": [
        {
          "metadata": {},
          "execution_count": 26,
          "data": {
            "text/plain": "1"
          },
          "output_type": "execute_result"
        }
      ],
      "execution_count": 26
    },
    {
      "metadata": {},
      "cell_type": "code",
      "source": "remainder(5, 3)",
      "outputs": [
        {
          "metadata": {},
          "execution_count": 27,
          "data": {
            "text/plain": "2"
          },
          "output_type": "execute_result"
        }
      ],
      "execution_count": 27
    },
    {
      "metadata": {},
      "cell_type": "code",
      "source": "remainder(5, divisor=3)",
      "outputs": [
        {
          "metadata": {},
          "execution_count": 28,
          "data": {
            "text/plain": "2"
          },
          "output_type": "execute_result"
        }
      ],
      "execution_count": 28
    },
    {
      "metadata": {},
      "cell_type": "code",
      "source": "def f(*args, **kwargs):\n    print(\"Positional arguments:\", args)\n    print(\"Keyword arguments:\", kwargs)",
      "outputs": [],
      "execution_count": 29
    },
    {
      "metadata": {},
      "cell_type": "code",
      "source": "f(1, 2, c=3, d=4)",
      "outputs": [
        {
          "metadata": {},
          "execution_count": 30,
          "data": {
            "text/plain": "Positional arguments: (1, 2)\nKeyword arguments: {'c': 3, 'd': 4}"
          },
          "output_type": "execute_result"
        }
      ],
      "execution_count": 30
    },
    {
      "metadata": {},
      "source": "### Passage by assignment",
      "cell_type": "markdown"
    },
    {
      "metadata": {},
      "cell_type": "code",
      "source": "my_list = [1, 2]\n\ndef add(some_list, value):\n    some_list.append(value)\n\nadd(my_list, 3)\nmy_list",
      "outputs": [
        {
          "metadata": {},
          "execution_count": 31,
          "data": {
            "text/plain": "[1, 2, 3]"
          },
          "output_type": "execute_result"
        }
      ],
      "execution_count": 31
    },
    {
      "metadata": {},
      "source": "### Errors",
      "cell_type": "markdown"
    },
    {
      "metadata": {},
      "cell_type": "code",
      "source": "def divide(a, b):\n    return a / b",
      "outputs": [],
      "execution_count": 32
    },
    {
      "metadata": {},
      "cell_type": "code",
      "source": "divide(1, 0)",
      "outputs": [
        {
          "metadata": {},
          "execution_count": 33,
          "data": {
            "text/plain": "---------------------------------------------------------------------------\nZeroDivisionError                         Traceback (most recent call last)\n<ipython-input-2-b77ebb6ac6f6> in <module>()\n----> 1 divide(1, 0)\n\n<ipython-input-1-5c74f9fd7706> in divide(a, b)\n      1 def divide(a, b):\n----> 2     return a / b\n\nZeroDivisionError: division by zero"
          },
          "output_type": "execute_result"
        }
      ],
      "execution_count": 33
    },
    {
      "metadata": {},
      "source": "### Objet-oriented programming",
      "cell_type": "markdown"
    },
    {
      "metadata": {},
      "cell_type": "code",
      "source": "type('hello')",
      "outputs": [
        {
          "metadata": {},
          "execution_count": 34,
          "data": {
            "text/plain": "str"
          },
          "output_type": "execute_result"
        }
      ],
      "execution_count": 34
    },
    {
      "metadata": {},
      "cell_type": "code",
      "source": "'hello'.upper()",
      "outputs": [
        {
          "metadata": {},
          "execution_count": 35,
          "data": {
            "text/plain": "'HELLO'"
          },
          "output_type": "execute_result"
        }
      ],
      "execution_count": 35
    },
    {
      "metadata": {},
      "cell_type": "code",
      "source": "'Hello {0:s}!'.format('Python')",
      "outputs": [
        {
          "metadata": {},
          "execution_count": 36,
          "data": {
            "text/plain": "Hello Python!"
          },
          "output_type": "execute_result"
        }
      ],
      "execution_count": 36
    },
    {
      "metadata": {},
      "source": "### Functional programming",
      "cell_type": "markdown"
    },
    {
      "metadata": {},
      "cell_type": "code",
      "source": "def show_output(func):\n    def wrapped(*args, **kwargs):\n        output = func(*args, **kwargs)\n        print(\"The result is:\", output)\n    return wrapped",
      "outputs": [],
      "execution_count": 37
    },
    {
      "metadata": {},
      "cell_type": "code",
      "source": "f = show_output(is_even)\nf(3)",
      "outputs": [
        {
          "metadata": {},
          "execution_count": 38,
          "data": {
            "text/plain": "The result is: False"
          },
          "output_type": "execute_result"
        }
      ],
      "execution_count": 38
    },
    {
      "metadata": {},
      "cell_type": "code",
      "source": "@show_output\ndef square(x):\n    return x * x",
      "outputs": [],
      "execution_count": 39
    },
    {
      "metadata": {},
      "cell_type": "code",
      "source": "square(3)",
      "outputs": [
        {
          "metadata": {},
          "execution_count": 40,
          "data": {
            "text/plain": "The result is: 9"
          },
          "output_type": "execute_result"
        }
      ],
      "execution_count": 40
    },
    {
      "metadata": {},
      "source": "### Python 2 and 3",
      "cell_type": "markdown"
    },
    {
      "metadata": {},
      "source": "### Going beyond the basics",
      "cell_type": "markdown"
    }
  ],
  "nbformat": 4,
  "nbformat_minor": 0
}