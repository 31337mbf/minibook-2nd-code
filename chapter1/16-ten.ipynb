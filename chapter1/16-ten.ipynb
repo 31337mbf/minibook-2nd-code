{
  "cells": [
    {
      "source": "## Ten IPython essentials",
      "metadata": {},
      "cell_type": "markdown"
    },
    {
      "source": "### Using IPython as an extended shell",
      "metadata": {},
      "cell_type": "markdown"
    },
    {
      "cell_type": "code",
      "execution_count": 1,
      "source": "%pwd",
      "metadata": {},
      "outputs": [
        {
          "data": {
            "text/plain": "'/home/cyrille/minibook/chapter1'"
          },
          "metadata": {},
          "execution_count": 1,
          "output_type": "execute_result"
        }
      ]
    },
    {
      "cell_type": "code",
      "execution_count": 2,
      "source": "!wget https://github.com/ipython-books/minibook-2nd-data/blob/master/facebook.zip?raw=true -O facebook.zip",
      "metadata": {},
      "outputs": []
    },
    {
      "cell_type": "code",
      "execution_count": 3,
      "source": "%ls",
      "metadata": {},
      "outputs": [
        {
          "data": {
            "text/plain": "facebook.zip  [...]"
          },
          "metadata": {},
          "execution_count": 3,
          "output_type": "execute_result"
        }
      ]
    },
    {
      "cell_type": "code",
      "execution_count": 4,
      "source": "!unzip facebook.zip",
      "metadata": {},
      "outputs": []
    },
    {
      "cell_type": "code",
      "execution_count": 5,
      "source": "%ls",
      "metadata": {},
      "outputs": [
        {
          "data": {
            "text/plain": "facebook  facebook.zip  [...]"
          },
          "metadata": {},
          "execution_count": 5,
          "output_type": "execute_result"
        }
      ]
    },
    {
      "cell_type": "code",
      "execution_count": 6,
      "source": "%cd facebook",
      "metadata": {},
      "outputs": [
        {
          "data": {
            "text/plain": "/home/cyrille/minibook/chapter1/facebook"
          },
          "metadata": {},
          "execution_count": 6,
          "output_type": "execute_result"
        }
      ]
    },
    {
      "cell_type": "code",
      "execution_count": 7,
      "source": "%bookmark fbdata",
      "metadata": {},
      "outputs": []
    },
    {
      "cell_type": "code",
      "execution_count": 8,
      "source": "%ls",
      "metadata": {},
      "outputs": [
        {
          "data": {
            "text/plain": "0.circles    1684.circles  3437.circles  3980.circles  686.circles\n0.edges      1684.edges    3437.edges    3980.edges    686.edges\n107.circles  1912.circles  348.circles   414.circles   698.circles\n107.edges    1912.edges    348.edges     414.edges     698.edges"
          },
          "metadata": {},
          "execution_count": 8,
          "output_type": "execute_result"
        }
      ]
    },
    {
      "cell_type": "code",
      "execution_count": 9,
      "source": "files = !ls -1 -S | grep .edges",
      "metadata": {},
      "outputs": []
    },
    {
      "cell_type": "code",
      "execution_count": 10,
      "source": "files",
      "metadata": {},
      "outputs": [
        {
          "data": {
            "text/plain": "['1912.edges',\n '107.edges',\n '1684.edges',\n '3437.edges',\n '348.edges',\n '0.edges',\n '414.edges',\n '686.edges',\n '698.edges',\n '3980.edges']"
          },
          "metadata": {},
          "execution_count": 10,
          "output_type": "execute_result"
        }
      ]
    },
    {
      "cell_type": "code",
      "execution_count": 11,
      "source": "!head -n5 {files[0]}",
      "metadata": {},
      "outputs": [
        {
          "data": {
            "text/plain": "2290 2363\n2346 2025\n2140 2428\n2201 2506\n2425 2557"
          },
          "metadata": {},
          "execution_count": 11,
          "output_type": "execute_result"
        }
      ]
    },
    {
      "source": "### Learning magic commands",
      "metadata": {},
      "cell_type": "markdown"
    },
    {
      "cell_type": "code",
      "execution_count": 12,
      "source": "%lsmagic",
      "metadata": {},
      "outputs": [
        {
          "data": {
            "text/plain": "Available line magics: %alias  %alias_magic\n%autocall  %automagic  %autosave  %bookmark  %cat  %cd  %clear\n%colors  %config  %connect_info  %cp  %debug  %dhist  %dirs\n%doctest_mode  %ed  %edit  %env  %gui  %hist  %history\n%install_default_config  %install_ext  %install_profiles\n%killbgscripts  %ldir  %less  %lf  %lk  %ll  %load  %load_ext  %loadpy\n%logoff  %logon  %logstart  %logstate  %logstop  %ls  %lsmagic  %lx\n%macro  %magic  %man  %matplotlib  %mkdir  %more  %mv  %notebook\n%page  %pastebin  %pdb  %pdef  %pdoc  %pfile  %pinfo  %pinfo2  %popd\n%pprint  %precision  %profile  %prun  %psearch  %psource  %pushd  %pwd\n%pycat  %pylab  %qtconsole  %quickref  %recall  %rehashx  %reload_ext\n%rep  %rerun  %reset  %reset_selective  %rm  %rmdir  %run  %save  %sc\n%set_env  %store  %sx  %system  %tb  %time  %timeit  %unalias\n%unload_ext  %who  %who_ls  %whos  %xdel  %xmode\n\nAvailable cell magics: %%!  %%HTML  %%SVG  %%bash  %%capture  %%debug\n%%file  %%html  %%javascript  %%latex  %%perl  %%prun  %%pypy\n%%python  %%python2  %%python3  %%ruby  %%script  %%sh  %%svg  %%sx\n%%system  %%time  %%timeit  %%writefile\n\nAutomagic is ON, % prefix IS NOT needed for line magics."
          },
          "metadata": {},
          "execution_count": 12,
          "output_type": "execute_result"
        }
      ]
    },
    {
      "cell_type": "code",
      "execution_count": 13,
      "source": "%history?",
      "metadata": {},
      "outputs": []
    },
    {
      "cell_type": "code",
      "execution_count": 14,
      "source": "%history -l 5",
      "metadata": {},
      "outputs": [
        {
          "data": {
            "text/plain": "files = !ls -1 -S | grep .edges\nfiles\n!head -n5 {files[0]}\n%lsmagic\n%history?"
          },
          "metadata": {},
          "execution_count": 14,
          "output_type": "execute_result"
        }
      ]
    },
    {
      "cell_type": "code",
      "execution_count": 15,
      "source": "# how many minutes in a day?\n24 * 60",
      "metadata": {},
      "outputs": [
        {
          "data": {
            "text/plain": "1440"
          },
          "metadata": {},
          "execution_count": 15,
          "output_type": "execute_result"
        }
      ]
    },
    {
      "cell_type": "code",
      "execution_count": 16,
      "source": "# and in a year?\n_ * 365",
      "metadata": {},
      "outputs": [
        {
          "data": {
            "text/plain": "525600"
          },
          "metadata": {},
          "execution_count": 16,
          "output_type": "execute_result"
        }
      ]
    },
    {
      "cell_type": "code",
      "execution_count": 17,
      "source": "%%capture output\n%ls",
      "metadata": {},
      "outputs": []
    },
    {
      "cell_type": "code",
      "execution_count": 18,
      "source": "output.stdout",
      "metadata": {},
      "outputs": [
        {
          "data": {
            "text/plain": "0.circles    1684.circles  3437.circles  3980.circles  686.circles\n0.edges      1684.edges    3437.edges    3980.edges    686.edges\n107.circles  1912.circles  348.circles   414.circles   698.circles\n107.edges    1912.edges    348.edges     414.edges     698.edges"
          },
          "metadata": {},
          "execution_count": 18,
          "output_type": "execute_result"
        }
      ]
    },
    {
      "cell_type": "code",
      "execution_count": 19,
      "source": "%%bash\ncd ..\ntouch _HEY\nls\nrm _HEY\ncd facebook",
      "metadata": {},
      "outputs": [
        {
          "data": {
            "text/plain": "_HEY\nfacebook\nfacebook.zip\n[...]"
          },
          "metadata": {},
          "execution_count": 19,
          "output_type": "execute_result"
        }
      ]
    },
    {
      "cell_type": "code",
      "execution_count": 20,
      "source": "%%script ghci\nputStrLn \"Hello world!\"",
      "metadata": {},
      "outputs": [
        {
          "data": {
            "text/plain": "GHCi, version 7.6.3: http://www.haskell.org/ghc/  :? for help\nLoading package ghc-prim ... linking ... done.\nLoading package integer-gmp ... linking ... done.\nLoading package base ... linking ... done.\nPrelude> Hello world!\nPrelude> Leaving GHCi."
          },
          "metadata": {},
          "execution_count": 20,
          "output_type": "execute_result"
        }
      ]
    },
    {
      "cell_type": "code",
      "execution_count": 21,
      "source": "%%writefile myfile.txt\nHello world!",
      "metadata": {},
      "outputs": [
        {
          "data": {
            "text/plain": "Writing myfile.txt"
          },
          "metadata": {},
          "execution_count": 21,
          "output_type": "execute_result"
        }
      ]
    },
    {
      "cell_type": "code",
      "execution_count": 22,
      "source": "!more myfile.txt",
      "metadata": {},
      "outputs": [
        {
          "data": {
            "text/plain": "Hello world!"
          },
          "metadata": {},
          "execution_count": 22,
          "output_type": "execute_result"
        }
      ]
    },
    {
      "cell_type": "code",
      "execution_count": 23,
      "source": "!rm myfile.txt",
      "metadata": {},
      "outputs": []
    },
    {
      "source": "### Mastering tab completion",
      "metadata": {},
      "cell_type": "markdown"
    },
    {
      "cell_type": "code",
      "execution_count": 24,
      "source": "%cd fbdata\n%ls",
      "metadata": {},
      "outputs": [
        {
          "data": {
            "text/plain": "(bookmark:fbdata) -> /home/cyrille/minibook/chapter1/facebook\n/home/cyrille/minibook/chapter1/facebook\n0.circles    1684.circles  3437.circles  3980.circles  686.circles\n0.edges      1684.edges    3437.edges    3980.edges    686.edges\n107.circles  1912.circles  348.circles   414.circles   698.circles\n107.edges    1912.edges    348.edges     414.edges     698.edges"
          },
          "metadata": {},
          "execution_count": 24,
          "output_type": "execute_result"
        }
      ]
    },
    {
      "source": "### Writing interactive documents in the notebook with Markdown",
      "metadata": {},
      "cell_type": "markdown"
    },
    {
      "source": "### Creating interactive widgets in the notebook",
      "metadata": {},
      "cell_type": "markdown"
    },
    {
      "cell_type": "code",
      "execution_count": 25,
      "source": "from IPython.display import YouTubeVideo\nYouTubeVideo('j9YpkSX7NNM')",
      "metadata": {},
      "outputs": [
        {
          "data": {
            "text/plain": "<IPython.lib.display.YouTubeVideo at 0x7fa214652940>"
          },
          "metadata": {},
          "execution_count": 25,
          "output_type": "execute_result"
        }
      ]
    },
    {
      "cell_type": "code",
      "execution_count": 26,
      "source": "from IPython.html.widgets import interact\n@interact(x=(0, 10))\ndef square(x):\n    print(\"The square of %d is %d.\" % (x, x**2))",
      "metadata": {},
      "outputs": [
        {
          "data": {
            "text/plain": "The square of 7 is 49."
          },
          "metadata": {},
          "execution_count": 26,
          "output_type": "execute_result"
        }
      ]
    },
    {
      "source": "### Running Python scripts from IPython",
      "metadata": {},
      "cell_type": "markdown"
    },
    {
      "cell_type": "code",
      "execution_count": 27,
      "source": "%cd fbdata\n%cd ..",
      "metadata": {},
      "outputs": [
        {
          "data": {
            "text/plain": "(bookmark:fbdata) -> /home/cyrille/minibook/chapter1/facebook\n/home/cyrille/minibook/chapter1/facebook"
          },
          "metadata": {},
          "execution_count": 27,
          "output_type": "execute_result"
        }
      ]
    },
    {
      "cell_type": "code",
      "execution_count": 28,
      "source": "%%writefile egos.py\nimport sys\nimport os\n# We retrieve the folder as the first positional argument\n# to the command-line call\nif len(sys.argv) > 1:\n    folder = sys.argv[1]\n# We list all files in the specified folder\nfiles = os.listdir(folder)\n# ids contains the list of idenfitiers\nidentifiers = [int(file.split('.')[0]) for file in files]\n# Finally, we remove duplicates with set(), and sort the list\n# with sorted().\nids = list(sorted(set(identifiers)))",
      "metadata": {},
      "outputs": [
        {
          "data": {
            "text/plain": "Overwriting egos.py"
          },
          "metadata": {},
          "execution_count": 28,
          "output_type": "execute_result"
        }
      ]
    },
    {
      "cell_type": "code",
      "execution_count": 29,
      "source": "%run egos.py facebook",
      "metadata": {},
      "outputs": []
    },
    {
      "cell_type": "code",
      "execution_count": 30,
      "source": "ids",
      "metadata": {},
      "outputs": [
        {
          "data": {
            "text/plain": "[0, 107, 348, 414, 686, 698, 1684, 1912, 3437, 3980]"
          },
          "metadata": {},
          "execution_count": 30,
          "output_type": "execute_result"
        }
      ]
    },
    {
      "cell_type": "code",
      "execution_count": 31,
      "source": "folder = 'facebook'",
      "metadata": {},
      "outputs": []
    },
    {
      "cell_type": "code",
      "execution_count": 32,
      "source": "%run egos.py",
      "metadata": {},
      "outputs": []
    },
    {
      "cell_type": "code",
      "execution_count": 33,
      "source": "%run -i egos.py",
      "metadata": {},
      "outputs": []
    },
    {
      "cell_type": "code",
      "execution_count": 34,
      "source": "ids",
      "metadata": {},
      "outputs": [
        {
          "data": {
            "text/plain": "[0, 107, 348, 414, 686, 698, 1684, 1912, 3437, 3980]"
          },
          "metadata": {},
          "execution_count": 34,
          "output_type": "execute_result"
        }
      ]
    },
    {
      "source": "### Introspecting Python objects",
      "metadata": {},
      "cell_type": "markdown"
    },
    {
      "cell_type": "code",
      "execution_count": 35,
      "source": "import networkx",
      "metadata": {},
      "outputs": []
    },
    {
      "cell_type": "code",
      "execution_count": 36,
      "source": "networkx.Graph?",
      "metadata": {},
      "outputs": []
    },
    {
      "source": "### Debugging Python code",
      "metadata": {},
      "cell_type": "markdown"
    },
    {
      "source": "### Benchmarking Python code",
      "metadata": {},
      "cell_type": "markdown"
    },
    {
      "cell_type": "code",
      "execution_count": 37,
      "source": "%cd fbdata",
      "metadata": {},
      "outputs": [
        {
          "data": {
            "text/plain": "(bookmark:fbdata) -> /home/cyrille/minibook/chapter1/facebook\n/home/cyrille/minibook/chapter1/facebook"
          },
          "metadata": {},
          "execution_count": 37,
          "output_type": "execute_result"
        }
      ]
    },
    {
      "cell_type": "code",
      "execution_count": 38,
      "source": "import networkx",
      "metadata": {},
      "outputs": []
    },
    {
      "cell_type": "code",
      "execution_count": 39,
      "source": "graph = networkx.read_edgelist('107.edges')",
      "metadata": {},
      "outputs": []
    },
    {
      "cell_type": "code",
      "execution_count": 40,
      "source": "len(graph.nodes()), len(graph.edges())",
      "metadata": {},
      "outputs": [
        {
          "data": {
            "text/plain": "(1034, 26749)"
          },
          "metadata": {},
          "execution_count": 40,
          "output_type": "execute_result"
        }
      ]
    },
    {
      "cell_type": "code",
      "execution_count": 41,
      "source": "networkx.is_connected(graph)",
      "metadata": {},
      "outputs": [
        {
          "data": {
            "text/plain": "True"
          },
          "metadata": {},
          "execution_count": 41,
          "output_type": "execute_result"
        }
      ]
    },
    {
      "cell_type": "code",
      "execution_count": 42,
      "source": "%timeit networkx.is_connected(graph)",
      "metadata": {},
      "outputs": [
        {
          "data": {
            "text/plain": "100 loops, best of 3: 5.92 ms per loop"
          },
          "metadata": {},
          "execution_count": 42,
          "output_type": "execute_result"
        }
      ]
    },
    {
      "source": "### Profiling Python code",
      "metadata": {},
      "cell_type": "markdown"
    },
    {
      "cell_type": "code",
      "execution_count": 43,
      "source": "import networkx",
      "metadata": {},
      "outputs": []
    },
    {
      "cell_type": "code",
      "execution_count": 44,
      "source": "def ncomponents(file):\n    graph = networkx.read_edgelist(file)\n    return networkx.number_connected_components(graph)",
      "metadata": {},
      "outputs": []
    },
    {
      "cell_type": "code",
      "execution_count": 45,
      "source": "import glob\ndef ncomponents_files():\n    return [(file, ncomponents(file))\n            for file in sorted(glob.glob('*.edges'))]",
      "metadata": {},
      "outputs": []
    },
    {
      "cell_type": "code",
      "execution_count": 46,
      "source": "for file, n in ncomponents_files():\n    print(file.ljust(12), n, 'component(s)')",
      "metadata": {},
      "outputs": [
        {
          "data": {
            "text/plain": "0.edges      5 component(s)\n107.edges    1 component(s)\n1684.edges   4 component(s)\n1912.edges   2 component(s)\n3437.edges   2 component(s)\n348.edges    1 component(s)\n3980.edges   4 component(s)\n414.edges    2 component(s)\n686.edges    1 component(s)\n698.edges    3 component(s)"
          },
          "metadata": {},
          "execution_count": 46,
          "output_type": "execute_result"
        }
      ]
    },
    {
      "cell_type": "code",
      "execution_count": 47,
      "source": "%timeit ncomponents_files()",
      "metadata": {},
      "outputs": [
        {
          "data": {
            "text/plain": "1 loops, best of 3: 634 ms per loop"
          },
          "metadata": {},
          "execution_count": 47,
          "output_type": "execute_result"
        }
      ]
    },
    {
      "cell_type": "code",
      "execution_count": 48,
      "source": "%prun -s cumtime ncomponents_files()",
      "metadata": {},
      "outputs": [
        {
          "data": {
            "text/plain": "2391070 function calls in 1.038 seconds\n\nOrdered by: cumulative time\n\nncalls  tottime  percall  cumtime  percall filename:lineno(function)\n     1    0.000    0.000    1.038    1.038 {built-in method exec}\n     1    0.000    0.000    1.038    1.038 <string>:1(<module>)\n    10    0.000    0.000    0.995    0.100 <string>:1(read_edgelist)\n    10    0.000    0.000    0.995    0.100 decorators.py:155(_open_file)\n    10    0.376    0.038    0.995    0.099 edgelist.py:174(parse_edgelist)\n170174    0.279    0.000    0.350    0.000 graph.py:648(add_edge)\n170184    0.059    0.000    0.095    0.000 edgelist.py:366(<genexpr>)\n    10    0.000    0.000    0.021    0.002 connected.py:98(number_connected_components)\n    35    0.001    0.000    0.021    0.001 connected.py:22(connected_components)"
          },
          "metadata": {},
          "execution_count": 48,
          "output_type": "execute_result"
        }
      ]
    }
  ],
  "nbformat_minor": 0,
  "metadata": {},
  "nbformat": 4
}