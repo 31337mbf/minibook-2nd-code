{
  "cells": [
    {
      "source": "## A crash course on Python",
      "metadata": {},
      "cell_type": "markdown"
    },
    {
      "source": "### Hello world",
      "metadata": {},
      "cell_type": "markdown"
    },
    {
      "cell_type": "code",
      "execution_count": 1,
      "source": "print(\"Hello world!\")",
      "metadata": {},
      "outputs": [
        {
          "data": {
            "text/plain": "Hello world!"
          },
          "metadata": {},
          "execution_count": 1,
          "output_type": "execute_result"
        }
      ]
    },
    {
      "source": "### Variables",
      "metadata": {},
      "cell_type": "markdown"
    },
    {
      "cell_type": "code",
      "execution_count": 2,
      "source": "2*2",
      "metadata": {},
      "outputs": [
        {
          "data": {
            "text/plain": "4"
          },
          "metadata": {},
          "execution_count": 2,
          "output_type": "execute_result"
        }
      ]
    },
    {
      "cell_type": "code",
      "execution_count": 3,
      "source": "a = 2",
      "metadata": {},
      "outputs": []
    },
    {
      "cell_type": "code",
      "execution_count": 4,
      "source": "a * 3",
      "metadata": {},
      "outputs": [
        {
          "data": {
            "text/plain": "6"
          },
          "metadata": {},
          "execution_count": 4,
          "output_type": "execute_result"
        }
      ]
    },
    {
      "cell_type": "code",
      "execution_count": 5,
      "source": "a, b = 2, 6",
      "metadata": {},
      "outputs": []
    },
    {
      "cell_type": "code",
      "execution_count": 6,
      "source": "somefloat = 3.1415  # The \"dot\" character represents the radix point.\nsometext = 'pi is about'  # Use single or double quotes for strings.\nprint(sometext, somefloat)  # This displays several variables concatenated.",
      "metadata": {},
      "outputs": [
        {
          "data": {
            "text/plain": "pi is about 3.1415"
          },
          "metadata": {},
          "execution_count": 6,
          "output_type": "execute_result"
        }
      ]
    },
    {
      "source": "### Lists",
      "metadata": {},
      "cell_type": "markdown"
    },
    {
      "cell_type": "code",
      "execution_count": 7,
      "source": "items = [1, 3, 0, 4, 1]",
      "metadata": {},
      "outputs": []
    },
    {
      "cell_type": "code",
      "execution_count": 8,
      "source": "len(items)",
      "metadata": {},
      "outputs": [
        {
          "data": {
            "text/plain": "5"
          },
          "metadata": {},
          "execution_count": 8,
          "output_type": "execute_result"
        }
      ]
    },
    {
      "cell_type": "code",
      "execution_count": 9,
      "source": "sum(items)",
      "metadata": {},
      "outputs": [
        {
          "data": {
            "text/plain": "9"
          },
          "metadata": {},
          "execution_count": 9,
          "output_type": "execute_result"
        }
      ]
    },
    {
      "cell_type": "code",
      "execution_count": 10,
      "source": "items[0]",
      "metadata": {},
      "outputs": [
        {
          "data": {
            "text/plain": "1"
          },
          "metadata": {},
          "execution_count": 10,
          "output_type": "execute_result"
        }
      ]
    },
    {
      "cell_type": "code",
      "execution_count": 11,
      "source": "items[-1]",
      "metadata": {},
      "outputs": [
        {
          "data": {
            "text/plain": "1"
          },
          "metadata": {},
          "execution_count": 11,
          "output_type": "execute_result"
        }
      ]
    },
    {
      "cell_type": "code",
      "execution_count": 12,
      "source": "items[1] = 9\nitems",
      "metadata": {},
      "outputs": [
        {
          "data": {
            "text/plain": "[1, 9, 0, 4, 1]"
          },
          "metadata": {},
          "execution_count": 12,
          "output_type": "execute_result"
        }
      ]
    },
    {
      "cell_type": "code",
      "execution_count": 13,
      "source": "items[1:3]",
      "metadata": {},
      "outputs": [
        {
          "data": {
            "text/plain": "[9, 0]"
          },
          "metadata": {},
          "execution_count": 13,
          "output_type": "execute_result"
        }
      ]
    },
    {
      "cell_type": "code",
      "execution_count": 14,
      "source": "my_tuple = (1, 2, 3)\nmy_tuple[1]",
      "metadata": {},
      "outputs": [
        {
          "data": {
            "text/plain": "2"
          },
          "metadata": {},
          "execution_count": 14,
          "output_type": "execute_result"
        }
      ]
    },
    {
      "cell_type": "code",
      "execution_count": 15,
      "source": "my_dict = {'a': 1, 'b': 2, 'c': 3}\nprint('a:', my_dict['a'])",
      "metadata": {},
      "outputs": [
        {
          "data": {
            "text/plain": "a: 1"
          },
          "metadata": {},
          "execution_count": 15,
          "output_type": "execute_result"
        }
      ]
    },
    {
      "cell_type": "code",
      "execution_count": 16,
      "source": "print(my_dict.keys())",
      "metadata": {},
      "outputs": [
        {
          "data": {
            "text/plain": "dict_keys(['c', 'a', 'b'])"
          },
          "metadata": {},
          "execution_count": 16,
          "output_type": "execute_result"
        }
      ]
    },
    {
      "cell_type": "code",
      "execution_count": 17,
      "source": "my_set = set([1, 2, 3, 2, 1])\nmy_set",
      "metadata": {},
      "outputs": [
        {
          "data": {
            "text/plain": "{1, 2, 3}"
          },
          "metadata": {},
          "execution_count": 17,
          "output_type": "execute_result"
        }
      ]
    },
    {
      "source": "### Loops",
      "metadata": {},
      "cell_type": "markdown"
    },
    {
      "cell_type": "code",
      "execution_count": 18,
      "source": "for item in items:\n    print(item)",
      "metadata": {},
      "outputs": [
        {
          "data": {
            "text/plain": "1\n9\n0\n4\n1"
          },
          "metadata": {},
          "execution_count": 18,
          "output_type": "execute_result"
        }
      ]
    },
    {
      "cell_type": "code",
      "execution_count": 19,
      "source": "squares = [item * item for item in items]\nsquares",
      "metadata": {},
      "outputs": [
        {
          "data": {
            "text/plain": "[1, 81, 0, 16, 1]"
          },
          "metadata": {},
          "execution_count": 19,
          "output_type": "execute_result"
        }
      ]
    },
    {
      "source": "### Indentation",
      "metadata": {},
      "cell_type": "markdown"
    },
    {
      "source": "### Conditional branches",
      "metadata": {},
      "cell_type": "markdown"
    },
    {
      "cell_type": "code",
      "execution_count": 20,
      "source": "for item in items:\n    if item % 2 == 0:\n        print(item)",
      "metadata": {},
      "outputs": [
        {
          "data": {
            "text/plain": "0\n4"
          },
          "metadata": {},
          "execution_count": 20,
          "output_type": "execute_result"
        }
      ]
    },
    {
      "cell_type": "code",
      "execution_count": 21,
      "source": "even = [item for item in items if item % 2 == 0]\neven",
      "metadata": {},
      "outputs": [
        {
          "data": {
            "text/plain": "[0, 4]"
          },
          "metadata": {},
          "execution_count": 21,
          "output_type": "execute_result"
        }
      ]
    },
    {
      "source": "### Functions",
      "metadata": {},
      "cell_type": "markdown"
    },
    {
      "cell_type": "code",
      "execution_count": 22,
      "source": "def is_even(number):\n    \"\"\"Return whether an integer is even or not.\"\"\"\n    return number % 2 == 0",
      "metadata": {},
      "outputs": []
    },
    {
      "cell_type": "code",
      "execution_count": 23,
      "source": "is_even(3)",
      "metadata": {},
      "outputs": [
        {
          "data": {
            "text/plain": "False"
          },
          "metadata": {},
          "execution_count": 23,
          "output_type": "execute_result"
        }
      ]
    },
    {
      "cell_type": "code",
      "execution_count": 24,
      "source": "is_even(4)",
      "metadata": {},
      "outputs": [
        {
          "data": {
            "text/plain": "True"
          },
          "metadata": {},
          "execution_count": 24,
          "output_type": "execute_result"
        }
      ]
    },
    {
      "source": "### Positional and keyword arguments",
      "metadata": {},
      "cell_type": "markdown"
    },
    {
      "cell_type": "code",
      "execution_count": 25,
      "source": "def remainder(number, divisor=2):\n    return number % divisor",
      "metadata": {},
      "outputs": []
    },
    {
      "cell_type": "code",
      "execution_count": 26,
      "source": "remainder(5)",
      "metadata": {},
      "outputs": [
        {
          "data": {
            "text/plain": "1"
          },
          "metadata": {},
          "execution_count": 26,
          "output_type": "execute_result"
        }
      ]
    },
    {
      "cell_type": "code",
      "execution_count": 27,
      "source": "remainder(5, 3)",
      "metadata": {},
      "outputs": [
        {
          "data": {
            "text/plain": "2"
          },
          "metadata": {},
          "execution_count": 27,
          "output_type": "execute_result"
        }
      ]
    },
    {
      "cell_type": "code",
      "execution_count": 28,
      "source": "remainder(5, divisor=3)",
      "metadata": {},
      "outputs": [
        {
          "data": {
            "text/plain": "2"
          },
          "metadata": {},
          "execution_count": 28,
          "output_type": "execute_result"
        }
      ]
    },
    {
      "cell_type": "code",
      "execution_count": 29,
      "source": "def f(*args, **kwargs):\n    print(\"Positional arguments:\", args)\n    print(\"Keyword arguments:\", kwargs)",
      "metadata": {},
      "outputs": []
    },
    {
      "cell_type": "code",
      "execution_count": 30,
      "source": "f(1, 2, c=3, d=4)",
      "metadata": {},
      "outputs": [
        {
          "data": {
            "text/plain": "Positional arguments: (1, 2)\nKeyword arguments: {'c': 3, 'd': 4}"
          },
          "metadata": {},
          "execution_count": 30,
          "output_type": "execute_result"
        }
      ]
    },
    {
      "source": "### Passage by assignment",
      "metadata": {},
      "cell_type": "markdown"
    },
    {
      "cell_type": "code",
      "execution_count": 31,
      "source": "my_list = [1, 2]\n\ndef add(some_list, value):\n    some_list.append(value)\n\nadd(my_list, 3)\nmy_list",
      "metadata": {},
      "outputs": [
        {
          "data": {
            "text/plain": "[1, 2, 3]"
          },
          "metadata": {},
          "execution_count": 31,
          "output_type": "execute_result"
        }
      ]
    },
    {
      "source": "### Objet-oriented programming",
      "metadata": {},
      "cell_type": "markdown"
    },
    {
      "cell_type": "code",
      "execution_count": 32,
      "source": "type('hello')",
      "metadata": {},
      "outputs": [
        {
          "data": {
            "text/plain": "str"
          },
          "metadata": {},
          "execution_count": 32,
          "output_type": "execute_result"
        }
      ]
    },
    {
      "cell_type": "code",
      "execution_count": 33,
      "source": "'hello'.upper()",
      "metadata": {},
      "outputs": [
        {
          "data": {
            "text/plain": "'HELLO'"
          },
          "metadata": {},
          "execution_count": 33,
          "output_type": "execute_result"
        }
      ]
    },
    {
      "cell_type": "code",
      "execution_count": 34,
      "source": "'Hello {0:s}!'.format('Python')",
      "metadata": {},
      "outputs": [
        {
          "data": {
            "text/plain": "Hello Python!"
          },
          "metadata": {},
          "execution_count": 34,
          "output_type": "execute_result"
        }
      ]
    },
    {
      "source": "### Functional programming",
      "metadata": {},
      "cell_type": "markdown"
    },
    {
      "cell_type": "code",
      "execution_count": 35,
      "source": "def show_output(func):\n    def wrapped(*args, **kwargs):\n        output = func(*args, **kwargs)\n        print(\"The result is:\", output)\n    return wrapped",
      "metadata": {},
      "outputs": []
    },
    {
      "cell_type": "code",
      "execution_count": 36,
      "source": "f = show_output(is_even)\nf(3)",
      "metadata": {},
      "outputs": [
        {
          "data": {
            "text/plain": "The result is: False"
          },
          "metadata": {},
          "execution_count": 36,
          "output_type": "execute_result"
        }
      ]
    },
    {
      "cell_type": "code",
      "execution_count": 37,
      "source": "@show_output\ndef square(x):\n    return x * x",
      "metadata": {},
      "outputs": []
    },
    {
      "cell_type": "code",
      "execution_count": 38,
      "source": "square(3)",
      "metadata": {},
      "outputs": [
        {
          "data": {
            "text/plain": "The result is: 9"
          },
          "metadata": {},
          "execution_count": 38,
          "output_type": "execute_result"
        }
      ]
    },
    {
      "source": "### Python 2 and 3",
      "metadata": {},
      "cell_type": "markdown"
    },
    {
      "source": "### Going beyond the basics",
      "metadata": {},
      "cell_type": "markdown"
    }
  ],
  "nbformat_minor": 0,
  "metadata": {},
  "nbformat": 4
}