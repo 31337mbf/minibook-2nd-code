{
  "cells": [
    {
      "metadata": {},
      "source": "## A crash course on Python",
      "cell_type": "markdown"
    },
    {
      "metadata": {},
      "source": "### Hello world",
      "cell_type": "markdown"
    },
    {
      "execution_count": 1,
      "metadata": {},
      "cell_type": "code",
      "outputs": [
        {
          "execution_count": 1,
          "metadata": {},
          "output_type": "execute_result",
          "data": {
            "text/plain": "Hello world!"
          }
        }
      ],
      "source": "print(\"Hello world!\")"
    },
    {
      "metadata": {},
      "source": "### Variables",
      "cell_type": "markdown"
    },
    {
      "execution_count": 2,
      "metadata": {},
      "cell_type": "code",
      "outputs": [
        {
          "execution_count": 2,
          "metadata": {},
          "output_type": "execute_result",
          "data": {
            "text/plain": "4"
          }
        }
      ],
      "source": "2*2"
    },
    {
      "execution_count": 3,
      "metadata": {},
      "cell_type": "code",
      "outputs": [],
      "source": "a = 2"
    },
    {
      "execution_count": 4,
      "metadata": {},
      "cell_type": "code",
      "outputs": [
        {
          "execution_count": 4,
          "metadata": {},
          "output_type": "execute_result",
          "data": {
            "text/plain": "6"
          }
        }
      ],
      "source": "a * 3"
    },
    {
      "execution_count": 5,
      "metadata": {},
      "cell_type": "code",
      "outputs": [],
      "source": "a, b = 2, 6"
    },
    {
      "execution_count": 6,
      "metadata": {},
      "cell_type": "code",
      "outputs": [
        {
          "execution_count": 6,
          "metadata": {},
          "output_type": "execute_result",
          "data": {
            "text/plain": "pi is about 3.1415"
          }
        }
      ],
      "source": "somefloat = 3.1415  # The \"dot\" character represents the radix point.\nsometext = 'pi is about'  # Use single or double quotes for strings.\nprint(sometext, somefloat)  # This displays several variables concatenated."
    },
    {
      "metadata": {},
      "source": "### Lists",
      "cell_type": "markdown"
    },
    {
      "execution_count": 7,
      "metadata": {},
      "cell_type": "code",
      "outputs": [],
      "source": "items = [1, 3, 0, 4, 1]"
    },
    {
      "execution_count": 8,
      "metadata": {},
      "cell_type": "code",
      "outputs": [
        {
          "execution_count": 8,
          "metadata": {},
          "output_type": "execute_result",
          "data": {
            "text/plain": "5"
          }
        }
      ],
      "source": "len(items)"
    },
    {
      "execution_count": 9,
      "metadata": {},
      "cell_type": "code",
      "outputs": [
        {
          "execution_count": 9,
          "metadata": {},
          "output_type": "execute_result",
          "data": {
            "text/plain": "9"
          }
        }
      ],
      "source": "sum(items)"
    },
    {
      "execution_count": 10,
      "metadata": {},
      "cell_type": "code",
      "outputs": [
        {
          "execution_count": 10,
          "metadata": {},
          "output_type": "execute_result",
          "data": {
            "text/plain": "1"
          }
        }
      ],
      "source": "items[0]"
    },
    {
      "execution_count": 11,
      "metadata": {},
      "cell_type": "code",
      "outputs": [
        {
          "execution_count": 11,
          "metadata": {},
          "output_type": "execute_result",
          "data": {
            "text/plain": "1"
          }
        }
      ],
      "source": "items[-1]"
    },
    {
      "execution_count": 12,
      "metadata": {},
      "cell_type": "code",
      "outputs": [
        {
          "execution_count": 12,
          "metadata": {},
          "output_type": "execute_result",
          "data": {
            "text/plain": "[1, 9, 0, 4, 1]"
          }
        }
      ],
      "source": "items[1] = 9\nitems"
    },
    {
      "execution_count": 13,
      "metadata": {},
      "cell_type": "code",
      "outputs": [
        {
          "execution_count": 13,
          "metadata": {},
          "output_type": "execute_result",
          "data": {
            "text/plain": "[9, 0]"
          }
        }
      ],
      "source": "items[1:3]"
    },
    {
      "execution_count": 14,
      "metadata": {},
      "cell_type": "code",
      "outputs": [
        {
          "execution_count": 14,
          "metadata": {},
          "output_type": "execute_result",
          "data": {
            "text/plain": "2"
          }
        }
      ],
      "source": "my_tuple = (1, 2, 3)\nmy_tuple[1]"
    },
    {
      "execution_count": 15,
      "metadata": {},
      "cell_type": "code",
      "outputs": [
        {
          "execution_count": 15,
          "metadata": {},
          "output_type": "execute_result",
          "data": {
            "text/plain": "a: 1"
          }
        }
      ],
      "source": "my_dict = {'a': 1, 'b': 2, 'c': 3}\nprint('a:', my_dict['a'])"
    },
    {
      "execution_count": 16,
      "metadata": {},
      "cell_type": "code",
      "outputs": [
        {
          "execution_count": 16,
          "metadata": {},
          "output_type": "execute_result",
          "data": {
            "text/plain": "dict_keys(['c', 'a', 'b'])"
          }
        }
      ],
      "source": "print(my_dict.keys())"
    },
    {
      "execution_count": 17,
      "metadata": {},
      "cell_type": "code",
      "outputs": [
        {
          "execution_count": 17,
          "metadata": {},
          "output_type": "execute_result",
          "data": {
            "text/plain": "{1, 2, 3}"
          }
        }
      ],
      "source": "my_set = set([1, 2, 3, 2, 1])\nmy_set"
    },
    {
      "metadata": {},
      "source": "### Loops",
      "cell_type": "markdown"
    },
    {
      "execution_count": 18,
      "metadata": {},
      "cell_type": "code",
      "outputs": [
        {
          "execution_count": 18,
          "metadata": {},
          "output_type": "execute_result",
          "data": {
            "text/plain": "1\n9\n0\n4\n1"
          }
        }
      ],
      "source": "for item in items:\n    print(item)"
    },
    {
      "execution_count": 19,
      "metadata": {},
      "cell_type": "code",
      "outputs": [
        {
          "execution_count": 19,
          "metadata": {},
          "output_type": "execute_result",
          "data": {
            "text/plain": "[1, 81, 0, 16, 1]"
          }
        }
      ],
      "source": "squares = [item * item for item in items]\nsquares"
    },
    {
      "metadata": {},
      "source": "### Indentation",
      "cell_type": "markdown"
    },
    {
      "metadata": {},
      "source": "### Conditional branches",
      "cell_type": "markdown"
    },
    {
      "execution_count": 20,
      "metadata": {},
      "cell_type": "code",
      "outputs": [
        {
          "execution_count": 20,
          "metadata": {},
          "output_type": "execute_result",
          "data": {
            "text/plain": "0\n4"
          }
        }
      ],
      "source": "for item in items:\n    if item % 2 == 0:\n        print(item)"
    },
    {
      "execution_count": 21,
      "metadata": {},
      "cell_type": "code",
      "outputs": [
        {
          "execution_count": 21,
          "metadata": {},
          "output_type": "execute_result",
          "data": {
            "text/plain": "[0, 4]"
          }
        }
      ],
      "source": "even = [item for item in items if item % 2 == 0]\neven"
    },
    {
      "metadata": {},
      "source": "### Functions",
      "cell_type": "markdown"
    },
    {
      "execution_count": 22,
      "metadata": {},
      "cell_type": "code",
      "outputs": [],
      "source": "def is_even(number):\n    \"\"\"Return whether an integer is even or not.\"\"\"\n    return number % 2 == 0"
    },
    {
      "execution_count": 23,
      "metadata": {},
      "cell_type": "code",
      "outputs": [
        {
          "execution_count": 23,
          "metadata": {},
          "output_type": "execute_result",
          "data": {
            "text/plain": "False"
          }
        }
      ],
      "source": "is_even(3)"
    },
    {
      "execution_count": 24,
      "metadata": {},
      "cell_type": "code",
      "outputs": [
        {
          "execution_count": 24,
          "metadata": {},
          "output_type": "execute_result",
          "data": {
            "text/plain": "True"
          }
        }
      ],
      "source": "is_even(4)"
    },
    {
      "metadata": {},
      "source": "### Positional and keyword arguments",
      "cell_type": "markdown"
    },
    {
      "execution_count": 25,
      "metadata": {},
      "cell_type": "code",
      "outputs": [],
      "source": "def remainder(number, divisor=2):\n    return number % divisor"
    },
    {
      "execution_count": 26,
      "metadata": {},
      "cell_type": "code",
      "outputs": [
        {
          "execution_count": 26,
          "metadata": {},
          "output_type": "execute_result",
          "data": {
            "text/plain": "1"
          }
        }
      ],
      "source": "remainder(5)"
    },
    {
      "execution_count": 27,
      "metadata": {},
      "cell_type": "code",
      "outputs": [
        {
          "execution_count": 27,
          "metadata": {},
          "output_type": "execute_result",
          "data": {
            "text/plain": "2"
          }
        }
      ],
      "source": "remainder(5, 3)"
    },
    {
      "execution_count": 28,
      "metadata": {},
      "cell_type": "code",
      "outputs": [
        {
          "execution_count": 28,
          "metadata": {},
          "output_type": "execute_result",
          "data": {
            "text/plain": "2"
          }
        }
      ],
      "source": "remainder(5, divisor=3)"
    },
    {
      "execution_count": 29,
      "metadata": {},
      "cell_type": "code",
      "outputs": [],
      "source": "def f(*args, **kwargs):\n    print(\"Positional arguments:\", args)\n    print(\"Keyword arguments:\", kwargs)"
    },
    {
      "execution_count": 30,
      "metadata": {},
      "cell_type": "code",
      "outputs": [
        {
          "execution_count": 30,
          "metadata": {},
          "output_type": "execute_result",
          "data": {
            "text/plain": "Positional arguments: (1, 2)\nKeyword arguments: {'c': 3, 'd': 4}"
          }
        }
      ],
      "source": "f(1, 2, c=3, d=4)"
    },
    {
      "metadata": {},
      "source": "### Passage by assignment",
      "cell_type": "markdown"
    },
    {
      "execution_count": 31,
      "metadata": {},
      "cell_type": "code",
      "outputs": [
        {
          "execution_count": 31,
          "metadata": {},
          "output_type": "execute_result",
          "data": {
            "text/plain": "[1, 2, 3]"
          }
        }
      ],
      "source": "my_list = [1, 2]\n\ndef add(some_list, value):\n    some_list.append(value)\n\nadd(my_list, 3)\nmy_list"
    },
    {
      "metadata": {},
      "source": "### Objet-oriented programming",
      "cell_type": "markdown"
    },
    {
      "execution_count": 32,
      "metadata": {},
      "cell_type": "code",
      "outputs": [
        {
          "execution_count": 32,
          "metadata": {},
          "output_type": "execute_result",
          "data": {
            "text/plain": "str"
          }
        }
      ],
      "source": "type('hello')"
    },
    {
      "execution_count": 33,
      "metadata": {},
      "cell_type": "code",
      "outputs": [
        {
          "execution_count": 33,
          "metadata": {},
          "output_type": "execute_result",
          "data": {
            "text/plain": "'HELLO'"
          }
        }
      ],
      "source": "'hello'.upper()"
    },
    {
      "execution_count": 34,
      "metadata": {},
      "cell_type": "code",
      "outputs": [
        {
          "execution_count": 34,
          "metadata": {},
          "output_type": "execute_result",
          "data": {
            "text/plain": "Hello Python!"
          }
        }
      ],
      "source": "'Hello {0:s}!'.format('Python')"
    },
    {
      "metadata": {},
      "source": "### Functional programming",
      "cell_type": "markdown"
    },
    {
      "execution_count": 35,
      "metadata": {},
      "cell_type": "code",
      "outputs": [],
      "source": "def show_output(func):\n    def wrapped(*args, **kwargs):\n        output = func(*args, **kwargs)\n        print(\"The result is:\", output)\n    return wrapped"
    },
    {
      "execution_count": 36,
      "metadata": {},
      "cell_type": "code",
      "outputs": [
        {
          "execution_count": 36,
          "metadata": {},
          "output_type": "execute_result",
          "data": {
            "text/plain": "The result is: False"
          }
        }
      ],
      "source": "f = show_output(is_even)\nf(3)"
    },
    {
      "execution_count": 37,
      "metadata": {},
      "cell_type": "code",
      "outputs": [],
      "source": "@show_output\ndef square(x):\n    return x * x"
    },
    {
      "execution_count": 38,
      "metadata": {},
      "cell_type": "code",
      "outputs": [
        {
          "execution_count": 38,
          "metadata": {},
          "output_type": "execute_result",
          "data": {
            "text/plain": "The result is: 9"
          }
        }
      ],
      "source": "square(3)"
    },
    {
      "metadata": {},
      "source": "### Python 2 and 3",
      "cell_type": "markdown"
    },
    {
      "metadata": {},
      "source": "### Going beyond the basics",
      "cell_type": "markdown"
    }
  ],
  "metadata": {},
  "nbformat_minor": 0,
  "nbformat": 4
}